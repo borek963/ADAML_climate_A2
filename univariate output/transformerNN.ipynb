{
  "cells": [
    {
      "cell_type": "markdown",
      "metadata": {
        "id": "OBIG0YkfVgGT"
      },
      "source": [
        "Source: This example comes from the torch adaptation of Charles Ollion [/github/charlesollion]."
      ]
    },
    {
      "cell_type": "code",
      "execution_count": 24,
      "metadata": {
        "ExecuteTime": {
          "end_time": "2023-12-10T12:20:50.196179243Z",
          "start_time": "2023-12-10T12:20:50.151314411Z"
        },
        "id": "VG5y21-CVgGW"
      },
      "outputs": [],
      "source": [
        "\n",
        "import torch\n",
        "import numpy as np\n",
        "import pandas as pd\n",
        "from sklearn.model_selection import train_test_split\n",
        "import time\n",
        "import matplotlib.pyplot as plt"
      ]
    },
    {
      "cell_type": "markdown",
      "metadata": {
        "id": "Gqewfx5BVgGX"
      },
      "source": [
        "Data Acquisition"
      ]
    },
    {
      "cell_type": "code",
      "execution_count": 25,
      "metadata": {
        "ExecuteTime": {
          "end_time": "2023-12-10T12:20:51.319032186Z",
          "start_time": "2023-12-10T12:20:51.305681874Z"
        },
        "id": "lKWO-NvUVgGY"
      },
      "outputs": [],
      "source": [
        "df = pd.read_csv(\"preprocessed_dataset.csv\")\n",
        "df = df.set_index('date')\n",
        "df.index = pd.to_datetime(df.index)"
      ]
    },
    {
      "cell_type": "markdown",
      "metadata": {
        "id": "zBdzZDWGVgGY"
      },
      "source": [
        "Data loading and preprocessing. Data is similar to project work, and has"
      ]
    },
    {
      "cell_type": "code",
      "execution_count": 26,
      "metadata": {
        "ExecuteTime": {
          "end_time": "2023-12-10T12:20:51.836037910Z",
          "start_time": "2023-12-10T12:20:51.830609338Z"
        },
        "id": "WVSuzT4lVgGY"
      },
      "outputs": [],
      "source": [
        "attributes = list(df.columns)\n",
        "data = df.values"
      ]
    },
    {
      "cell_type": "markdown",
      "metadata": {
        "id": "_m2krOxjVgGZ"
      },
      "source": [
        "Function for splitting the dataset into sequences of observations of length history size."
      ]
    },
    {
      "cell_type": "code",
      "execution_count": 27,
      "metadata": {
        "ExecuteTime": {
          "end_time": "2023-12-10T12:20:52.400034763Z",
          "start_time": "2023-12-10T12:20:52.395703483Z"
        },
        "id": "iLQoabJ4VgGZ"
      },
      "outputs": [],
      "source": [
        "def sequencing(dataset, start_index=0, end_index=None, history_size=30, step=1, lag=0):\n",
        "    # lag=1 means 2 ahead predictions (like in RNN/LSTM code)\n",
        "\n",
        "    data = []\n",
        "    start_index = start_index + history_size + 1 + lag\n",
        "    if end_index is None:\n",
        "        end_index = len(dataset)\n",
        "    for i in range(start_index, end_index):\n",
        "        indices = range(i - history_size - 1 - lag, i, step)\n",
        "        data.append(dataset[indices])\n",
        "    return np.array(data)\n"
      ]
    },
    {
      "cell_type": "markdown",
      "metadata": {
        "id": "zhF5tmS7VgGZ"
      },
      "source": [
        "Function for splitting the dataset into training and validation, and data normalization."
      ]
    },
    {
      "cell_type": "code",
      "execution_count": 28,
      "metadata": {
        "ExecuteTime": {
          "end_time": "2023-12-10T12:20:53.006435243Z",
          "start_time": "2023-12-10T12:20:53.002321Z"
        },
        "id": "LxY8VN6jVgGa"
      },
      "outputs": [],
      "source": [
        "def partition(data, pTrain=0.8, pVal = 0.5, save_path=None, history_size=30, lag=0):\n",
        "    data_mean = data[:int(pTrain*len(data))].mean(axis=0)\n",
        "    data_std = data[:int(pTrain*len(data))].std(axis=0)\n",
        "\n",
        "    data = (data - data_mean)/data_std\n",
        "    stats = np.array([data_mean, data_std])\n",
        "\n",
        "    sequencedData = sequencing(data, start_index=0, end_index=None, history_size=history_size, step=1, lag=lag)\n",
        "    # plt.plot(sequencedData[:, 0, 0])\n",
        "    # plt.show()\n",
        "\n",
        "    dataTrain = sequencedData[:int(sequencedData.shape[0]*pTrain), :, :]\n",
        "    dataVal = sequencedData[int(sequencedData.shape[0]*pTrain):int(sequencedData.shape[0]*(pTrain+(1-pTrain)*pVal)), :, :]\n",
        "    dataTest = sequencedData[int(sequencedData.shape[0]*(pTrain+(1-pTrain)*pVal)):, :, :]\n",
        "\n",
        "    return dataTrain, dataVal, dataTest, stats"
      ]
    },
    {
      "cell_type": "markdown",
      "metadata": {
        "id": "CpuFY7DTVgGa"
      },
      "source": [
        "Create input-output pairs."
      ]
    },
    {
      "cell_type": "code",
      "execution_count": 29,
      "metadata": {
        "ExecuteTime": {
          "end_time": "2023-12-10T12:20:53.585372356Z",
          "start_time": "2023-12-10T12:20:53.579062346Z"
        },
        "id": "pXSvAYYuVgGb"
      },
      "outputs": [],
      "source": [
        "def split(chunk,lag):\n",
        "    inputs = torch.tensor(chunk[:, :-lag-1, :], device=device) # What about that device?\n",
        "    targets = torch.tensor(chunk[:, lag+1:, :], device=device)\n",
        "    return inputs, targets\n",
        "\n",
        "device = torch.device(\"cuda:0\" if torch.cuda.is_available() else \"cpu\")"
      ]
    },
    {
      "cell_type": "markdown",
      "metadata": {
        "id": "O4j3MvaHVgGb"
      },
      "source": [
        "Loaders"
      ]
    },
    {
      "cell_type": "code",
      "execution_count": 30,
      "metadata": {
        "ExecuteTime": {
          "end_time": "2023-12-10T12:20:54.217645662Z",
          "start_time": "2023-12-10T12:20:54.196854376Z"
        },
        "id": "POqJz8YnVgGb"
      },
      "outputs": [],
      "source": [
        "def createLoaders(dataTrain, dataVal, dataTest, batchSize=32, responseVariables=[0, 1, 2, 3], lag=0):\n",
        "    XTrain, YTrain = split(dataTrain, lag)\n",
        "    XVal, YVal = split(dataVal, lag)\n",
        "    XTest, YTest = split(dataTest, lag)\n",
        "\n",
        "    YTrain = torch.unsqueeze(YTrain[:,:,responseVariables], 2) if len(responseVariables) == 1 else YTrain[:,:,responseVariables]\n",
        "    YVal = torch.unsqueeze(YVal[:,:,responseVariables], 2) if len(responseVariables) == 1 else YVal[:,:,responseVariables]\n",
        "    YTest = torch.unsqueeze(YTest[:,:,responseVariables], 2) if len(responseVariables) == 1 else YTest[:,:,responseVariables]\n",
        "\n",
        "    # XTrain = torch.cat([XTrain[:, :, :responseVariables], XTrain[:, :, responseVariables+1:]], dim=2)\n",
        "    # XVal = torch.cat([XVal[:, :, :responseVariables], XVal[:, :, responseVariables+1:]], dim=2)\n",
        "    # XTest = torch.cat([XTest[:, :, :responseVariables], XTest[:, :, responseVariables+1:]], dim=2)\n",
        "\n",
        "    trainDS = torch.utils.data.TensorDataset(XTrain, YTrain)\n",
        "    valDS = torch.utils.data.TensorDataset(XVal, YVal)\n",
        "    testDS = torch.utils.data.TensorDataset(XTest, YTest)\n",
        "\n",
        "    trainLoader = torch.utils.data.DataLoader(trainDS, batch_size=batchSize)\n",
        "    valLoader = torch.utils.data.DataLoader(valDS, batch_size=batchSize)\n",
        "    testLoader = torch.utils.data.DataLoader(testDS, batch_size=batchSize)\n",
        "\n",
        "    return trainLoader, valLoader, testLoader\n",
        "\n",
        "trainData, valData, testData, stats = partition(data,pTrain=0.85,history_size=30,lag=0)\n",
        "trainDataset, valDataset, testDataset = createLoaders(trainData, valData, testData, batchSize=32, lag=0)\n"
      ]
    },
    {
      "cell_type": "code",
      "execution_count": 31,
      "metadata": {
        "ExecuteTime": {
          "end_time": "2023-12-10T12:20:54.902471229Z",
          "start_time": "2023-12-10T12:20:54.843867245Z"
        },
        "colab": {
          "base_uri": "https://localhost:8080/",
          "height": 430
        },
        "id": "BiGB173eVgGc",
        "outputId": "a7bb5bd0-05c8-4fbd-add5-1ece9901cbe2"
      },
      "outputs": [
        {
          "data": {
            "image/png": "[encoded data removed]",
            "text/plain": [
              "<Figure size 640x480 with 1 Axes>"
            ]
          },
          "metadata": {},
          "output_type": "display_data"
        }
      ],
      "source": [
        "# %matplotlib qt\n",
        "%matplotlib inline\n",
        "plt.plot(np.array(list(range(trainData[:, 0, 1].shape[0]))), trainData[:, 0, 1])\n",
        "plt.plot(np.array(list(range(trainData[:, 0, 1].shape[0],\n",
        "                             trainData[:, 0, 1].shape[0] + valData[:, 0, 1].shape[0]))), valData[:, 0, 1])\n",
        "plt.plot(np.array(list(range(trainData[:, 0, 1].shape[0] + valData[:, 0, 1].shape[0],\n",
        "                             trainData[:, 0, 1].shape[0] + valData[:, 0, 1].shape[0] + testData[:, 0, 1].shape[0]))), testData[:, 0, 1])\n",
        "plt.show()"
      ]
    },
    {
      "cell_type": "markdown",
      "metadata": {
        "id": "-tRYDQ8XVgGc"
      },
      "source": [
        "Transformer NN implementation"
      ]
    },
    {
      "cell_type": "code",
      "execution_count": 32,
      "metadata": {
        "ExecuteTime": {
          "end_time": "2023-12-10T12:20:55.840758117Z",
          "start_time": "2023-12-10T12:20:55.836532996Z"
        },
        "id": "iaS9J8xpVgGc"
      },
      "outputs": [],
      "source": [
        "import torch.nn as nn\n",
        "import math\n",
        "\n",
        "class MultiHeadAttention(nn.Module):\n",
        "    def __init__(self, D, H):\n",
        "        super(MultiHeadAttention, self).__init__()\n",
        "        self.H = H # number of heads\n",
        "        self.D = D # dimension\n",
        "        self.wq = nn.Linear(D, D*H)\n",
        "        self.wk = nn.Linear(D, D*H)\n",
        "        self.wv = nn.Linear(D, D*H)\n",
        "\n",
        "        self.dense = nn.Linear(D*H, D)\n",
        "\n",
        "    def concat_heads(self, x):\n",
        "        '''(B, H, S, D) => (B, S, D*H)'''\n",
        "        B, H, S, D = x.shape\n",
        "        x = x.permute((0, 2, 1, 3)).contiguous()  # (B, S, H, D)\n",
        "        x = x.reshape((B, S, H*D))   # (B, S, D*H)\n",
        "        return x\n",
        "\n",
        "    def split_heads(self, x):\n",
        "        '''(B, S, D*H) => (B, H, S, D)'''\n",
        "        B, S, D_H = x.shape\n",
        "        x = x.reshape(B, S, self.H, self.D)    # (B, S, H, D)\n",
        "        x = x.permute((0, 2, 1, 3))  # (B, H, S, D)\n",
        "        return x\n",
        "\n",
        "    def forward(self, x, mask):\n",
        "\n",
        "        q = self.wq(x)  # (B, S, D*H)\n",
        "        k = self.wk(x)  # (B, S, D*H)\n",
        "        v = self.wv(x)  # (B, S, D*H)\n",
        "\n",
        "        q = self.split_heads(q)  # (B, H, S, D)\n",
        "        k = self.split_heads(k)  # (B, H, S, D)\n",
        "        v = self.split_heads(v)  # (B, H, S, D)\n",
        "\n",
        "        attention_scores = torch.matmul(q, k.transpose(-1, -2)) #(B,H,S,S)\n",
        "        attention_scores = attention_scores / math.sqrt(self.D)\n",
        "\n",
        "        # add the mask to the scaled tensor.\n",
        "        if mask is not None:\n",
        "            attention_scores += (mask * -1e9)\n",
        "\n",
        "        attention_weights = nn.Softmax(dim=-1)(attention_scores)\n",
        "        scaled_attention = torch.matmul(attention_weights, v)  # (B, H, S, D)\n",
        "        concat_attention = self.concat_heads(scaled_attention) # (B, S, D*H)\n",
        "        output = self.dense(concat_attention)  # (B, S, D)\n",
        "\n",
        "        return output, attention_weights"
      ]
    },
    {
      "cell_type": "code",
      "execution_count": 33,
      "metadata": {
        "ExecuteTime": {
          "end_time": "2023-12-10T12:20:56.486277018Z",
          "start_time": "2023-12-10T12:20:56.474092007Z"
        },
        "colab": {
          "base_uri": "https://localhost:8080/"
        },
        "id": "3D84hTeyVgGd",
        "outputId": "fc32c17b-5a07-4431-c59d-6730629e13e2"
      },
      "outputs": [
        {
          "data": {
            "text/plain": [
              "(torch.Size([9, 11, 8]), torch.Size([9, 5, 11, 11]))"
            ]
          },
          "execution_count": 33,
          "metadata": {},
          "output_type": "execute_result"
        }
      ],
      "source": [
        "B, S, H, D = 9, 11, 5, 8\n",
        "mha = MultiHeadAttention(D, H)\n",
        "out, att = mha.forward(torch.zeros(B, S, D), mask=None)\n",
        "out.shape, att.shape"
      ]
    },
    {
      "cell_type": "code",
      "execution_count": 34,
      "metadata": {
        "ExecuteTime": {
          "end_time": "2023-12-10T12:20:56.960160958Z",
          "start_time": "2023-12-10T12:20:56.951545335Z"
        },
        "id": "Zx_PZjAVVgGd"
      },
      "outputs": [],
      "source": [
        "# Positional encodings\n",
        "def get_angles(pos, i, D):\n",
        "    angle_rates = 1 / np.power(10000, (2 * (i // 2)) / np.float32(D))\n",
        "    return pos * angle_rates\n",
        "\n",
        "\n",
        "def positional_encoding(D, position=30, dim=3, device=device):\n",
        "    angle_rads = get_angles(np.arange(position)[:, np.newaxis],\n",
        "                            np.arange(D)[np.newaxis, :],\n",
        "                            D)\n",
        "    # apply sin to even indices in the array; 2i\n",
        "    angle_rads[:, 0::2] = np.sin(angle_rads[:, 0::2])\n",
        "    # apply cos to odd indices in the array; 2i+1\n",
        "    angle_rads[:, 1::2] = np.cos(angle_rads[:, 1::2])\n",
        "    if dim == 3:\n",
        "        pos_encoding = angle_rads[np.newaxis, ...]\n",
        "    elif dim == 4:\n",
        "        pos_encoding = angle_rads[np.newaxis,np.newaxis,  ...]\n",
        "    return torch.tensor(pos_encoding, device=device)\n",
        "\n",
        "# function that implement the look_ahead mask for masking future time steps.\n",
        "def create_look_ahead_mask(size, device=device):\n",
        "    mask = torch.ones((size, size), device=device)\n",
        "    mask = torch.triu(mask, diagonal=1).double()\n",
        "    return mask  # (size, size)\n",
        "\n",
        "create_look_ahead_mask(6)\n",
        "\n",
        "class TransformerLayer(nn.Module):\n",
        "    def __init__(self, D, H, hidden_mlp_dim, dropout_rate):\n",
        "        super(TransformerLayer, self).__init__()\n",
        "        self.dropout_rate = dropout_rate\n",
        "        self.mlp_hidden = nn.Linear(D, hidden_mlp_dim)\n",
        "        self.mlp_out = nn.Linear(hidden_mlp_dim, D)\n",
        "        self.layernorm1 = nn.LayerNorm(D, eps=1e-9)\n",
        "        self.layernorm2 = nn.LayerNorm(D, eps=1e-9)\n",
        "        self.dropout1 = nn.Dropout(dropout_rate)\n",
        "        self.dropout2 = nn.Dropout(dropout_rate)\n",
        "\n",
        "        self.mha = MultiHeadAttention(D, H)\n",
        "\n",
        "\n",
        "    def forward(self, x, look_ahead_mask):\n",
        "\n",
        "        attn, attn_weights = self.mha(x, look_ahead_mask)  # (B, S, D)\n",
        "        attn = self.dropout1(attn) # (B,S,D)\n",
        "        attn = self.layernorm1(attn + x) # (B,S,D)\n",
        "\n",
        "        mlp_act = torch.relu(self.mlp_hidden(attn))\n",
        "        mlp_act = self.mlp_out(mlp_act)\n",
        "        mlp_act = self.dropout2(mlp_act)\n",
        "\n",
        "        output = self.layernorm2(mlp_act + attn)  # (B, S, D)\n",
        "\n",
        "        return output, attn_weights"
      ]
    },
    {
      "cell_type": "code",
      "execution_count": 35,
      "metadata": {
        "ExecuteTime": {
          "end_time": "2023-12-10T12:20:57.590685839Z",
          "start_time": "2023-12-10T12:20:57.567310596Z"
        },
        "colab": {
          "base_uri": "https://localhost:8080/"
        },
        "id": "QQrHliZrVgGf",
        "outputId": "1c9af4f0-bd65-4e2e-c12f-7f66d48b441f"
      },
      "outputs": [
        {
          "data": {
            "text/plain": [
              "(torch.Size([5, 7, 16]), torch.Size([5, 3, 7, 7]))"
            ]
          },
          "execution_count": 35,
          "metadata": {},
          "output_type": "execute_result"
        }
      ],
      "source": [
        "dl = TransformerLayer(16, 3, 32, 0.1)\n",
        "out, attn = dl(x=torch.zeros(5, 7, 16), look_ahead_mask=None)\n",
        "out.shape, attn.shape"
      ]
    },
    {
      "cell_type": "code",
      "execution_count": 36,
      "metadata": {
        "ExecuteTime": {
          "end_time": "2023-12-10T12:20:58.104511195Z",
          "start_time": "2023-12-10T12:20:58.087878135Z"
        },
        "id": "y48HIPg4VgGf"
      },
      "outputs": [],
      "source": [
        "class Transformer(nn.Module):\n",
        "    '''Transformer Decoder Implementating several Decoder Layers.\n",
        "    '''\n",
        "    def __init__(self, num_layers, D, H, hidden_mlp_dim, inp_features, out_features, dropout_rate):\n",
        "        super(Transformer, self).__init__()\n",
        "        self.sqrt_D = torch.tensor(math.sqrt(D))\n",
        "        self.num_layers = num_layers\n",
        "        self.input_projection = nn.Linear(inp_features, D) # multivariate input\n",
        "        self.output_projection = nn.Linear(D, out_features) # multivariate output\n",
        "        self.pos_encoding = positional_encoding(D)\n",
        "        self.dec_layers = nn.ModuleList([TransformerLayer(D, H, hidden_mlp_dim,\n",
        "                                        dropout_rate=dropout_rate\n",
        "                                       ) for _ in range(num_layers)])\n",
        "        self.dropout = nn.Dropout(dropout_rate)\n",
        "        self.double()\n",
        "\n",
        "    def forward(self, x, mask):\n",
        "        B, S, D = x.shape\n",
        "        attention_weights = {}\n",
        "        x = self.input_projection(x)\n",
        "        x *= self.sqrt_D\n",
        "\n",
        "        x += self.pos_encoding[:, :S, :]\n",
        "\n",
        "        x = self.dropout(x)\n",
        "\n",
        "        for i in range(self.num_layers):\n",
        "            x, block = self.dec_layers[i](x=x,\n",
        "                                          look_ahead_mask=mask)\n",
        "            attention_weights['decoder_layer{}'.format(i + 1)] = block\n",
        "\n",
        "        x = self.output_projection(x)\n",
        "\n",
        "        return x, attention_weights # (B,S,S)"
      ]
    },
    {
      "cell_type": "code",
      "execution_count": 37,
      "metadata": {
        "ExecuteTime": {
          "end_time": "2023-12-10T12:20:58.658469022Z",
          "start_time": "2023-12-10T12:20:58.642698031Z"
        },
        "colab": {
          "base_uri": "https://localhost:8080/"
        },
        "id": "zt3AHw_hVgGf",
        "outputId": "038e44ef-4709-4e38-9489-78802365ed3d"
      },
      "outputs": [
        {
          "name": "stdout",
          "output_type": "stream",
          "text": [
            "torch.Size([32, 30, 4])\n",
            "torch.Size([32, 30, 4])\n"
          ]
        },
        {
          "data": {
            "text/plain": [
              "(torch.Size([32, 30, 1]), torch.Size([32, 1, 30, 30]))"
            ]
          },
          "execution_count": 37,
          "metadata": {},
          "output_type": "execute_result"
        }
      ],
      "source": [
        "# Test Forward pass on the Transformer:\n",
        "transformer = Transformer(num_layers=1, D=32, H=1, hidden_mlp_dim=32,\n",
        "                          inp_features=4, out_features=1, dropout_rate=0.1)\n",
        "transformer.to(device)\n",
        "(inputs, targets) = next(iter(trainDataset))\n",
        "print(inputs.shape)\n",
        "print(targets.shape)\n",
        "\n",
        "S = inputs.shape[1]\n",
        "mask = create_look_ahead_mask(S)\n",
        "out, attn = transformer (x=inputs, mask=mask)\n",
        "out.shape, attn[\"decoder_layer1\"].shape"
      ]
    },
    {
      "cell_type": "markdown",
      "metadata": {
        "id": "oZ8JZVpBVgGg"
      },
      "source": [
        "Training the Transformer"
      ]
    },
    {
      "cell_type": "code",
      "execution_count": 38,
      "metadata": {
        "ExecuteTime": {
          "end_time": "2023-12-10T12:21:00.183659841Z",
          "start_time": "2023-12-10T12:21:00.179516163Z"
        },
        "colab": {
          "base_uri": "https://localhost:8080/"
        },
        "id": "vLvDkRX0VgGg",
        "outputId": "8564e61f-e343-4d0a-cebd-4813cab68457"
      },
      "outputs": [
        {
          "name": "stdout",
          "output_type": "stream",
          "text": [
            "number of weight/biases matrices: 20 for a total of 6657 parameters \n"
          ]
        }
      ],
      "source": [
        "param_sizes = [p.numel() for p in transformer.parameters()]\n",
        "print(f\"number of weight/biases matrices: {len(param_sizes)} \"\n",
        "      f\"for a total of {np.sum(param_sizes)} parameters \")"
      ]
    },
    {
      "cell_type": "code",
      "execution_count": 39,
      "metadata": {
        "ExecuteTime": {
          "end_time": "2023-12-10T12:39:53.692429765Z",
          "start_time": "2023-12-10T12:39:53.649702310Z"
        },
        "colab": {
          "base_uri": "https://localhost:8080/"
        },
        "id": "F1CG96-kVgGg",
        "outputId": "45449206-4331-4640-f32b-133b133f9526"
      },
      "outputs": [
        {
          "data": {
            "text/plain": [
              "array([[-2.07715203,  1.38204939, -1.48183313,  1.01577444],\n",
              "       [-2.42491658,  1.81912519, -0.83376011,  1.29775423],\n",
              "       [-2.45612622,  1.52774132, -0.47420283,  1.41230852],\n",
              "       ...,\n",
              "       [ 0.68991687,  0.66087432, -0.09543532, -1.25328167],\n",
              "       [ 0.94070861,  0.16187945, -0.29659892, -1.25328167],\n",
              "       [ 1.01408842,  0.18090034,  0.24225373, -1.21656555]])"
            ]
          },
          "execution_count": 39,
          "metadata": {},
          "output_type": "execute_result"
        }
      ],
      "source": [
        "#########################################################\n",
        "#TODO\n",
        "# num_layers = number of the whole TransformerLayer\n",
        "# D = attention heads dimension?\n",
        "# H = number of attention heads\n",
        "# hidden_mlp_dim = linear/FC layer dimension\n",
        "# inp_features = input features (how many variables we input)\n",
        "# out_features = output features (how many variables we want to predict)\n",
        "# dropout_rate = dropout rate :D\n",
        "transformer = Transformer(num_layers=4, D=32, H=4, hidden_mlp_dim=32,\n",
        "                          inp_features=4, out_features=1, dropout_rate=0.1).to(device)\n",
        "\n",
        "optimizer = torch.optim.RMSprop(transformer.parameters(),\n",
        "                                lr=0.001)\n",
        "\n",
        "# Here we just de-sequence the sequenced training data\n",
        "trainTarget = [target[0, :] for target in trainData]\n",
        "trainTarget = np.array(trainTarget)\n",
        "trainTarget"
      ]
    },
    {
      "cell_type": "code",
      "execution_count": 40,
      "metadata": {
        "ExecuteTime": {
          "end_time": "2023-12-10T12:51:16.914283759Z",
          "start_time": "2023-12-10T12:45:53.955649924Z"
        },
        "colab": {
          "base_uri": "https://localhost:8080/"
        },
        "id": "VW-FYQ0pVgGg",
        "outputId": "9ceaaedc-32b6-41a0-eadc-5f50baa32bb9"
      },
      "outputs": [
        {
          "name": "stdout",
          "output_type": "stream",
          "text": [
            "Requirement already satisfied: tqdm in /usr/local/lib/python3.10/dist-packages (4.66.1)\n"
          ]
        },
        {
          "name": "stderr",
          "output_type": "stream",
          "text": [
            "100%|██████████| 100/100 [08:29<00:00,  5.10s/it]\n"
          ]
        }
      ],
      "source": [
        "!pip3 install tqdm\n",
        "from tqdm import tqdm\n",
        "\n",
        "n_epochs = 100\n",
        "niter = len(trainDataset)\n",
        "losses, val_losses = [], []\n",
        "\n",
        "for e in tqdm(range(n_epochs)):\n",
        "\n",
        "    # one epoch on train set\n",
        "\n",
        "    transformer.train()\n",
        "    #sum_train_loss = 0.0\n",
        "\n",
        "    # Here I get the first sequence from the training dataset - so first 30 days to predict from\n",
        "    it = iter(trainDataset)\n",
        "    (inputs, targets) = next(it)\n",
        "    last_x = torch.unsqueeze(inputs[0], 0)  # unsqueeze because of the NN wants it this way, from [[1...5]..[1...5]] to [[[1...5]..[1...5]]]\n",
        "    # Adding the first 30 days to the prediction list that will have the predictions\n",
        "    train_predictions = list(last_x[0,:,1].detach().cpu().numpy())\n",
        "\n",
        "    # While we do not have enough days predicted, we continue\n",
        "    count = 0\n",
        "    while len(train_predictions) < len(trainTarget):\n",
        "        S = last_x.shape[1]\n",
        "        mask = create_look_ahead_mask(S)\n",
        "        # Predict\n",
        "        p, attn = transformer(x=last_x, mask=mask)\n",
        "        optimizer.step()\n",
        "        # Add the new predicted values for one day to the prediction list\n",
        "        train_predictions.append(p[0, -1, :].detach().cpu().numpy())\n",
        "        # Roll to predict new day in next iteration\n",
        "        last_x = torch.roll(last_x, -1, dims=1)\n",
        "\n",
        "        try:\n",
        "          next_x = torch.unsqueeze(inputs[count], 0)\n",
        "        except IndexError:\n",
        "          (inputs, targets) = next(it)\n",
        "          count = 0\n",
        "          next_x = torch.unsqueeze(inputs[count], 0)\n",
        "          \n",
        "        # actual values of other variables + predicted value\n",
        "        new_values = next_x[:,-1,:]\n",
        "        new_values[:,1] = p[0, -1, :]\n",
        "\n",
        "        last_x[:,-1,:] = new_values\n",
        "        count += 1\n",
        "\n",
        "    #losses.append(sum_train_loss / (count+1))"
      ]
    },
    {
      "cell_type": "code",
      "execution_count": 41,
      "metadata": {
        "ExecuteTime": {
          "end_time": "2023-12-10T12:53:10.213010610Z",
          "start_time": "2023-12-10T12:53:10.153895544Z"
        },
        "id": "uodWuzF1VgGg"
      },
      "outputs": [],
      "source": [
        "#plt.plot(losses)\n",
        "#plt.plot(val_losses)"
      ]
    },
    {
      "cell_type": "code",
      "execution_count": 54,
      "metadata": {
        "ExecuteTime": {
          "end_time": "2023-12-10T12:53:11.745634361Z",
          "start_time": "2023-12-10T12:53:11.737800394Z"
        },
        "colab": {
          "base_uri": "https://localhost:8080/"
        },
        "id": "94dLDnNGVgGg",
        "outputId": "4d0d9438-49e4-4692-c2c0-2e1a23ab8076"
      },
      "outputs": [
        {
          "data": {
            "text/plain": [
              "array([[ 1.10623116e+00,  5.13964022e-02, -5.42344731e-01,\n",
              "        -1.14313331e+00],\n",
              "       [ 6.06876936e-01,  8.86696817e-01,  2.45379282e-02,\n",
              "        -9.49272210e-01],\n",
              "       [ 1.01496264e+00,  2.55936449e-01,  2.25978705e-01,\n",
              "        -9.85038028e-01],\n",
              "       [ 1.10750502e+00,  9.30226687e-02,  5.71320702e-01,\n",
              "        -1.10307937e+00],\n",
              "       [ 8.14026629e-01,  6.33416995e-01,  5.95045157e-01,\n",
              "        -1.25328167e+00],\n",
              "       [ 8.65471089e-01,  6.10421744e-01,  7.27543306e-01,\n",
              "        -1.13823783e+00],\n",
              "       [ 3.44779661e-01,  1.67135194e+00,  2.19125527e-01,\n",
              "        -8.42585660e-01],\n",
              "       [ 4.68981286e-01,  1.41118777e+00, -6.44960319e-01,\n",
              "        -7.52893429e-01],\n",
              "       [ 6.40952766e-01,  9.49136217e-01, -7.79472118e-01,\n",
              "        -9.13395317e-01],\n",
              "       [ 4.55287260e-01,  1.33542797e+00, -9.65226908e-02,\n",
              "        -1.14942751e+00],\n",
              "       [ 8.22478218e-01,  3.99669499e-01,  1.28552563e+00,\n",
              "        -1.14942751e+00],\n",
              "       [ 7.76300691e-01,  3.28211074e-01,  1.70778797e+00,\n",
              "        -1.11865590e+00],\n",
              "       [ 5.88405925e-01,  6.82728111e-01, -1.06309028e-01,\n",
              "        -1.11865590e+00],\n",
              "       [ 5.83098163e-01,  1.10901191e+00, -1.10729429e+00,\n",
              "        -1.06518217e+00],\n",
              "       [ 8.75025060e-01,  4.37133139e-01, -1.06474874e+00,\n",
              "        -1.06917656e+00],\n",
              "       [ 1.02399624e+00,  3.31988273e-01,  7.72649059e-01,\n",
              "        -1.03386615e+00],\n",
              "       [ 8.10978068e-01,  4.24799430e-01,  6.97741290e-01,\n",
              "        -8.97417753e-01],\n",
              "       [ 8.90240644e-01,  2.78028298e-01,  3.09509631e-01,\n",
              "        -6.73167000e-01],\n",
              "       [ 7.95918179e-01,  5.41698320e-01, -1.58720302e-01,\n",
              "        -6.26757827e-01],\n",
              "       [ 6.21844824e-01,  1.07817764e+00,  3.49132061e-01,\n",
              "        -7.24569566e-01],\n",
              "       [ 8.01268403e-01,  6.79231505e-01, -1.16764517e-01,\n",
              "        -4.70381055e-01],\n",
              "       [ 7.61438958e-01,  7.59351276e-01, -5.26557717e-01,\n",
              "        -3.64751607e-01],\n",
              "       [ 8.36809175e-01,  5.53686685e-01,  7.31071585e-02,\n",
              "        -2.43063901e-01],\n",
              "       [ 1.05272892e+00,  3.17915511e-01,  9.96390068e-02,\n",
              "        -2.35510871e-01],\n",
              "       [ 5.40636069e-01,  1.25508928e+00, -2.15046111e-01,\n",
              "        -5.78229609e-01],\n",
              "       [ 6.03310120e-01,  9.33318235e-01,  4.54523388e-01,\n",
              "        -7.65239728e-01],\n",
              "       [ 2.31370484e-01,  1.67667085e+00, -1.83125371e-02,\n",
              "        -6.53585071e-01],\n",
              "       [ 3.25098480e-01,  1.54172775e+00, -5.79750287e-01,\n",
              "        -7.32500248e-01],\n",
              "       [ 6.96822728e-01,  6.38387088e-01,  1.38977140e+00,\n",
              "        -8.86788052e-01],\n",
              "       [ 7.17635956e-01,  1.10695575e-01,  1.40256107e+00,\n",
              "        -9.01966390e-01],\n",
              "       [ 8.24315521e-01, -8.60770113e-02,  9.37148748e-01,\n",
              "        -6.68648094e-01],\n",
              "       [ 7.42004384e-01, -2.78002382e-02,  1.55444080e+00,\n",
              "        -6.27977932e-01],\n",
              "       [ 6.48118245e-01, -3.37115419e-01,  1.44047598e+00,\n",
              "        -5.59347034e-01],\n",
              "       [ 7.45091052e-01, -1.79768131e-01,  4.97181782e-01,\n",
              "        -5.98399632e-01],\n",
              "       [ 8.54324789e-01, -1.62285099e-01,  8.68700149e-01,\n",
              "        -3.72094831e-01],\n",
              "       [ 6.72268561e-01, -2.39987463e-01,  1.02395254e+00,\n",
              "        -4.82243185e-01],\n",
              "       [ 7.62582169e-01, -1.48836613e-01,  1.12116535e+00,\n",
              "        -3.63621880e-01],\n",
              "       [ 7.31715492e-01, -2.55527936e-01,  2.90581324e-01,\n",
              "        -5.52738133e-01],\n",
              "       [ 8.17701233e-01, -3.07977032e-01,  8.77761572e-01,\n",
              "        -3.84683214e-01],\n",
              "       [ 9.36807407e-01, -2.16676754e-01,  3.72496594e-01,\n",
              "        -2.09075266e-01],\n",
              "       [ 7.12607550e-01,  5.57849311e-01, -5.60674696e-01,\n",
              "        -1.39209738e-01],\n",
              "       [ 8.28992290e-01, -6.69231068e-02,  1.10610945e+00,\n",
              "        -4.27169008e-01],\n",
              "       [ 7.85217731e-01, -1.62285099e-01, -7.16324063e-01,\n",
              "        -4.73431317e-01],\n",
              "       [ 9.06626657e-01, -1.62285099e-01, -8.92980001e-01,\n",
              "        -6.38145472e-01],\n",
              "       [ 8.98909988e-01, -1.13721122e-01,  2.41276673e+00,\n",
              "        -3.94124502e-01],\n",
              "       [ 9.15629437e-01, -7.72981384e-02, -1.02785581e+00,\n",
              "        -4.32676426e-01],\n",
              "       [ 1.05867362e+00, -3.91075394e-01, -9.23091809e-01,\n",
              "        -5.89943799e-01],\n",
              "       [ 1.04737870e+00, -1.06339397e-01, -1.56980509e-01,\n",
              "        -3.41253291e-01],\n",
              "       [ 6.02913807e-01,  3.98898642e-01,  2.81318536e-01,\n",
              "         1.05214707e-01],\n",
              "       [ 7.31715492e-01,  3.10173026e-01, -7.05139678e-01,\n",
              "        -3.51638708e-01],\n",
              "       [ 7.63816836e-01,  3.31901937e-01, -2.86561654e-01,\n",
              "        -4.22858855e-01],\n",
              "       [ 7.49161875e-01,  8.85584025e-02, -7.97262275e-01,\n",
              "        -4.22858855e-01],\n",
              "       [ 7.95918179e-01,  5.55200736e-03, -8.32247249e-01,\n",
              "        -1.61491176e-01],\n",
              "       [ 8.90240644e-01, -1.73077094e-01, -1.09456182e+00,\n",
              "        -1.68932310e-01],\n",
              "       [ 9.24323551e-01, -3.20797922e-01, -9.33798229e-01,\n",
              "        -3.57114654e-01],\n",
              "       [ 8.95870088e-01,  3.10878298e-02, -6.19844615e-01,\n",
              "        -3.16019305e-01],\n",
              "       [ 8.94133002e-01, -8.31951928e-02, -9.20283763e-01,\n",
              "        -3.18594201e-01],\n",
              "       [ 9.37922037e-01,  6.59655955e-02, -7.92258793e-01,\n",
              "        -6.36794373e-02],\n",
              "       [ 9.74457130e-01,  6.00299982e-02, -5.85356288e-01,\n",
              "         1.49274049e-01],\n",
              "       [ 1.03523781e+00, -7.03871108e-02, -6.13547384e-01,\n",
              "        -1.05291038e-01],\n",
              "       [ 6.72268561e-01,  5.26244183e-01, -2.26926644e-01,\n",
              "        -3.45169677e-01],\n",
              "       [ 4.41911701e-01,  6.46305128e-01, -7.58731526e-01,\n",
              "        -3.61079995e-01],\n",
              "       [ 6.92084205e-01,  2.34860318e-01, -7.78666658e-01,\n",
              "        -1.10186520e-01],\n",
              "       [ 7.26365269e-01, -4.80626239e-02,  1.95969555e+00,\n",
              "        -1.03332845e-01],\n",
              "       [ 6.78213254e-01, -1.64616170e-01,  4.23575141e-01,\n",
              "        -1.50103531e-01],\n",
              "       [ 7.21015045e-01, -9.23529715e-02, -7.89395383e-01,\n",
              "        -2.67233597e-01],\n",
              "       [ 5.68236430e-01, -5.63747314e-01, -4.36346211e-01,\n",
              "        -2.42364546e-01],\n",
              "       [ 5.53374698e-01, -5.61588915e-01,  4.58519708e-01,\n",
              "        -1.83618757e-01],\n",
              "       [ 5.40636069e-01, -7.86679097e-01,  9.91158816e-01,\n",
              "        -2.28901969e-01],\n",
              "       [ 5.93005985e-01, -9.78159923e-01,  1.35016379e+00,\n",
              "         4.64689175e-02],\n",
              "       [ 5.64520997e-01, -7.52337427e-01,  4.61251268e-01,\n",
              "         1.51109855e-01],\n",
              "       [ 2.95771327e-01, -3.86758596e-01, -3.28108148e-02,\n",
              "         3.35302381e-01],\n",
              "       [ 3.87772531e-01, -6.36824537e-01,  4.35928075e-02,\n",
              "         5.12239103e-01],\n",
              "       [ 4.10702062e-01, -6.72789632e-01,  6.57130369e-02,\n",
              "         3.40785321e-01],\n",
              "       [ 3.97326502e-01, -7.18342643e-01,  1.85798317e-01,\n",
              "         1.95169196e-01],\n",
              "       [ 4.54296478e-01, -6.75984062e-01, -7.71111079e-02,\n",
              "         7.58418121e-02],\n",
              "       [ 4.74493192e-01, -7.60742731e-01,  5.02401162e-01,\n",
              "        -5.85956671e-02],\n",
              "       [ 3.85166902e-01, -6.04658786e-01,  8.44151928e-01,\n",
              "         9.85390488e-02],\n",
              "       [ 5.08789499e-01, -6.58716870e-01,  1.41559191e+00,\n",
              "         1.83542426e-01],\n",
              "       [ 2.63570906e-01, -3.39356833e-01,  1.02915705e+00,\n",
              "         1.75257763e-01],\n",
              "       [ 3.97326502e-01, -5.45566953e-01,  9.51368213e-01,\n",
              "         3.79959671e-02],\n",
              "       [ 3.35798928e-01, -3.62757199e-01,  1.21233721e+00,\n",
              "         1.24420061e-01],\n",
              "       [ 2.73859798e-01, -2.67631574e-01, -2.42230382e-01,\n",
              "         4.95535287e-01],\n",
              "       [ 1.37246176e-01, -8.24243361e-02, -1.67322614e-01,\n",
              "         8.78700931e-01],\n",
              "       [-1.46333127e-03, -1.16958720e-01,  1.00895524e-01,\n",
              "         5.84971985e-01],\n",
              "       [ 3.81679565e-02,  1.16148372e-01, -1.10890521e+00,\n",
              "         6.63299704e-01],\n",
              "       [-9.40799277e-02,  5.97846724e-01, -1.04404818e+00,\n",
              "         8.75933920e-01],\n",
              "       [-1.32551437e-01,  3.50998787e-01, -1.12467363e+00,\n",
              "         1.29877098e+00],\n",
              "       [-1.53129221e-01, -1.19698227e-01, -8.91307123e-01,\n",
              "         1.11067148e+00],\n",
              "       [-2.41052480e-01,  2.98631197e-01, -1.17044966e+00,\n",
              "         1.13793898e+00],\n",
              "       [ 1.47854967e-02, -5.97179785e-02, -9.96430789e-01,\n",
              "         1.09155651e+00],\n",
              "       [-9.55876397e-02, -1.45017907e-01, -5.85356288e-01,\n",
              "         6.14344880e-01],\n",
              "       [-3.22895939e-01,  3.37550301e-01, -2.23828722e-01,\n",
              "         3.12519559e-01],\n",
              "       [-3.48237099e-01,  1.78741943e-01, -9.57478750e-01,\n",
              "         4.67480407e-01],\n",
              "       [-1.31616083e-01, -5.51679901e-01,  2.95523919e-01,\n",
              "         6.33259244e-01],\n",
              "       [-2.40584803e-01, -4.96255837e-01,  1.29096249e+00,\n",
              "         7.47893641e-01],\n",
              "       [-3.38329277e-01, -6.45766476e-01,  5.65952311e-02,\n",
              "         8.83596414e-01],\n",
              "       [-2.68974524e-01, -6.19865688e-01, -7.80277577e-01,\n",
              "         7.71000318e-01],\n",
              "       [-2.15274129e-01, -3.93061121e-01, -8.36369803e-01,\n",
              "         8.06051972e-01],\n",
              "       [-2.66307033e-01, -1.60043685e-01, -8.76251219e-01,\n",
              "         9.47990837e-01],\n",
              "       [-1.64942393e-01, -2.89630640e-01, -5.24946798e-01,\n",
              "         1.12837054e+00],\n",
              "       [-2.92029263e-01, -3.14468032e-03, -1.15645832e+00,\n",
              "         1.02424739e+00],\n",
              "       [-4.39983530e-01, -2.95156142e-01, -5.92798737e-01,\n",
              "         1.09155651e+00],\n",
              "       [-5.02951550e-01, -4.40220479e-01,  7.05978412e-02,\n",
              "         1.26318459e+00],\n",
              "       [-5.08095996e-01, -5.27635638e-01,  1.02999349e+00,\n",
              "         8.86985594e-01],\n",
              "       [-5.08095996e-01, -4.17806335e-01,  2.10115883e-01,\n",
              "         8.86985594e-01],\n",
              "       [-6.50425669e-01, -6.88037091e-03, -8.64206496e-01,\n",
              "         5.92804757e-01],\n",
              "       [-4.38645974e-01, -5.15592303e-02, -9.37060342e-01,\n",
              "         7.09562013e-01],\n",
              "       [-5.33818226e-01, -1.88345808e-02, -8.91307123e-01,\n",
              "         6.63299704e-01],\n",
              "       [-3.94647423e-01, -6.19297688e-01,  2.57960199e-01,\n",
              "         6.49386228e-01],\n",
              "       [-3.61591120e-01, -5.44884784e-01, -4.55580928e-02,\n",
              "         6.86287187e-01],\n",
              "       [-5.49522324e-01, -5.42617724e-01,  3.20913247e-01,\n",
              "         9.20699018e-01],\n",
              "       [-2.58075920e-01, -1.76198252e+00,  1.79876466e+00,\n",
              "         6.56690803e-01],\n",
              "       [-1.65233800e-01, -1.63977270e+00,  1.67026302e+00,\n",
              "         6.96344211e-01],\n",
              "       [-2.53212080e-01, -1.58211921e+00,  1.22769728e+00,\n",
              "         7.41404901e-01],\n",
              "       [-4.11286875e-01, -1.36755472e+00,  5.15822425e-01,\n",
              "         9.27655756e-01]])"
            ]
          },
          "execution_count": 54,
          "metadata": {},
          "output_type": "execute_result"
        }
      ],
      "source": [
        "# Here we just de-sequence the sequenced validation data\n",
        "valTarget = [target[0, :] for target in valData]\n",
        "valTarget = np.array(valTarget)\n",
        "valTarget"
      ]
    },
    {
      "cell_type": "code",
      "execution_count": 55,
      "metadata": {
        "ExecuteTime": {
          "end_time": "2023-12-10T12:53:13.371700569Z",
          "start_time": "2023-12-10T12:53:13.094554376Z"
        },
        "id": "OjP3R-mvVgGh"
      },
      "outputs": [],
      "source": [
        "transformer.eval()\n",
        "\n",
        "# Here I get the first sequence from the validation dataset - so first 30 days from val data to predict from\n",
        "it = iter(valDataset)\n",
        "(inputs, targets) = next(it)\n",
        "last_x = torch.unsqueeze(inputs[0], 0)  # unsqueeze because of the NN wants it this way, from [[1...5]..[1...5]] to [[[1...5]..[1...5]]]\n",
        "# Adding the first 30 days to the prediction list that will have the predictions\n",
        "validation_predictions = list(last_x[0,:,1].detach().cpu().numpy())\n",
        "\n",
        "# While we do not have enough days predicted, we continue\n",
        "count = 0\n",
        "while len(validation_predictions) < len(valTarget):\n",
        "    S = last_x.shape[1]\n",
        "    mask = create_look_ahead_mask(S)\n",
        "    # Predict\n",
        "    p, attn = transformer(x=last_x, mask=mask)\n",
        "    # Add the new predicted values for one day to the prediction list\n",
        "    validation_predictions.append(p[0, -1, :].detach().cpu().numpy()[0])\n",
        "    # Roll to predict new day in next iteration\n",
        "    last_x = torch.roll(last_x, -1, dims=1)\n",
        "\n",
        "    try:\n",
        "      next_x = torch.unsqueeze(inputs[count], 0)\n",
        "    except IndexError:\n",
        "      (inputs, targets) = next(it)\n",
        "      count = 0\n",
        "      next_x = torch.unsqueeze(inputs[count], 0)\n",
        "    new_values = next_x[:,-1,:]\n",
        "    new_values[:,1] = p[0, -1, :]\n",
        "\n",
        "    last_x[:,-1,:] = new_values\n",
        "    count += 1\n"
      ]
    },
    {
      "cell_type": "code",
      "execution_count": 56,
      "metadata": {
        "ExecuteTime": {
          "end_time": "2023-12-10T12:53:14.156988202Z",
          "start_time": "2023-12-10T12:53:14.077319279Z"
        },
        "colab": {
          "base_uri": "https://localhost:8080/",
          "height": 452
        },
        "id": "S1He9yTIVgGh",
        "outputId": "900cab10-7d24-4d91-c167-f97e175326bf"
      },
      "outputs": [
        {
          "data": {
            "image/png": "[encoded data removed]",
            "text/plain": [
              "<Figure size 640x480 with 1 Axes>"
            ]
          },
          "metadata": {},
          "output_type": "display_data"
        }
      ],
      "source": [
        "validation_predictions_plot = np.array(validation_predictions)*stats[1,1] + stats[0,1]\n",
        "valTarget = np.array(valTarget)*stats[1,1] + stats[0,1]\n",
        "\n",
        "plt.plot(validation_predictions_plot, label=\"predictions\")\n",
        "plt.plot(valTarget[:, 1], label=\"target\")\n",
        "plt.title(\"Transformer Predictions\")\n",
        "plt.legend()\n",
        "plt.show()"
      ]
    },
    {
      "cell_type": "code",
      "execution_count": 57,
      "metadata": {
        "colab": {
          "base_uri": "https://localhost:8080/"
        },
        "id": "8iVYqvYUO-No",
        "outputId": "a350ba5d-5c5b-4ec6-c504-9ef1e0d090a1"
      },
      "outputs": [
        {
          "name": "stdout",
          "output_type": "stream",
          "text": [
            "MASE: {'mase': 13.266359400464324}\n",
            "SMAPE: {'smape': 0.08835302295518929}\n"
          ]
        }
      ],
      "source": [
        "#!pip install evaluate\n",
        "from evaluate import load\n",
        "\n",
        "mase_metric = load(\"evaluate-metric/mase\")\n",
        "smape_metric = load(\"evaluate-metric/smape\")\n",
        "\n",
        "mase_results = mase_metric.compute(references=valTarget[:,1], predictions=validation_predictions_plot, training=trainTarget[:,1])\n",
        "smape_metric = smape_metric.compute(references=valTarget[:,1], predictions=validation_predictions_plot)\n",
        "\n",
        "print(f'MASE: {mase_results}')\n",
        "print(f'SMAPE: {smape_metric}')"
      ]
    }
  ],
  "metadata": {
    "accelerator": "GPU",
    "colab": {
      "gpuType": "T4",
      "provenance": []
    },
    "kernelspec": {
      "display_name": "Python 3",
      "name": "python3"
    },
    "language_info": {
      "codemirror_mode": {
        "name": "ipython",
        "version": 3
      },
      "file_extension": ".py",
      "mimetype": "text/x-python",
      "name": "python",
      "nbconvert_exporter": "python",
      "pygments_lexer": "ipython3",
      "version": "3.11.2"
    },
    "orig_nbformat": 4
  },
  "nbformat": 4,
  "nbformat_minor": 0
}
