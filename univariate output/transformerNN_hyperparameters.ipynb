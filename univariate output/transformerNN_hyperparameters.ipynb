{
 "cells": [
  {
   "cell_type": "markdown",
   "metadata": {
    "id": "OBIG0YkfVgGT"
   },
   "source": [
    "Source: This example comes from the torch adaptation of Charles Ollion [/github/charlesollion]."
   ]
  },
  {
   "cell_type": "code",
   "execution_count": 1,
   "metadata": {
    "ExecuteTime": {
     "end_time": "2023-12-25T20:42:28.239945848Z",
     "start_time": "2023-12-25T20:42:26.865714216Z"
    },
    "id": "VG5y21-CVgGW"
   },
   "outputs": [],
   "source": [
    "\n",
    "import torch\n",
    "import numpy as np\n",
    "import pandas as pd\n",
    "from sklearn.model_selection import train_test_split\n",
    "import time\n",
    "import matplotlib.pyplot as plt\n",
    "import time\n",
    "from sklearn.metrics import mean_squared_error"
   ]
  },
  {
   "cell_type": "markdown",
   "metadata": {
    "id": "Gqewfx5BVgGX"
   },
   "source": [
    "Data Acquisition"
   ]
  },
  {
   "cell_type": "code",
   "execution_count": 2,
   "metadata": {
    "ExecuteTime": {
     "end_time": "2023-12-25T20:42:28.240317657Z",
     "start_time": "2023-12-25T20:42:28.231362322Z"
    },
    "id": "lKWO-NvUVgGY"
   },
   "outputs": [],
   "source": [
    "df = pd.read_csv(\"preprocessed_dataset.csv\")\n",
    "df = df.set_index('date')\n",
    "df.index = pd.to_datetime(df.index)\n",
    "\n",
    "attributes = list(df.columns)\n",
    "data = df.values"
   ]
  },
  {
   "cell_type": "markdown",
   "metadata": {
    "id": "_m2krOxjVgGZ"
   },
   "source": [
    "Function for splitting the dataset into sequences of observations of length history size."
   ]
  },
  {
   "cell_type": "code",
   "execution_count": 4,
   "metadata": {
    "ExecuteTime": {
     "end_time": "2023-12-25T20:42:28.454921896Z",
     "start_time": "2023-12-25T20:42:28.449313954Z"
    },
    "id": "iLQoabJ4VgGZ"
   },
   "outputs": [],
   "source": [
    "def sequencing(dataset, start_index=0, end_index=None, history_size=30, step=1, lag=0):\n",
    "    # lag=1 means 2 ahead predictions (like in RNN/LSTM code)\n",
    "\n",
    "    data = []\n",
    "    start_index = start_index + history_size + 1 + lag\n",
    "    if end_index is None:\n",
    "        end_index = len(dataset)\n",
    "    for i in range(start_index, end_index):\n",
    "        indices = range(i - history_size - 1 - lag, i, step)\n",
    "        data.append(dataset[indices])\n",
    "    return np.array(data)\n"
   ]
  },
  {
   "cell_type": "markdown",
   "metadata": {
    "id": "zhF5tmS7VgGZ"
   },
   "source": [
    "Function for splitting the dataset into training, validation and testing, and data normalization."
   ]
  },
  {
   "cell_type": "code",
   "execution_count": 5,
   "metadata": {
    "ExecuteTime": {
     "end_time": "2023-12-25T20:42:28.741976570Z",
     "start_time": "2023-12-25T20:42:28.738175044Z"
    },
    "id": "LxY8VN6jVgGa"
   },
   "outputs": [],
   "source": [
    "def partition(data, pTrain=0.8, pVal = 0.5, save_path=None, history_size=30, lag=0):\n",
    "    data_mean = data[:int(pTrain*len(data))].mean(axis=0)\n",
    "    data_std = data[:int(pTrain*len(data))].std(axis=0)\n",
    "\n",
    "    data = (data - data_mean)/data_std\n",
    "    stats = np.array([data_mean, data_std])\n",
    "\n",
    "    sequencedData = sequencing(data, start_index=0, end_index=None, history_size=history_size, step=1, lag=lag)\n",
    "\n",
    "    dataTrain = sequencedData[:int(sequencedData.shape[0]*pTrain), :, :]\n",
    "    dataVal = sequencedData[int(sequencedData.shape[0]*pTrain):int(sequencedData.shape[0]*(pTrain+(1-pTrain)*pVal)), :, :]\n",
    "    dataTest = sequencedData[int(sequencedData.shape[0]*(pTrain+(1-pTrain)*pVal)):, :, :]\n",
    "\n",
    "    return dataTrain, dataVal, dataTest, stats"
   ]
  },
  {
   "cell_type": "markdown",
   "metadata": {
    "id": "CpuFY7DTVgGa"
   },
   "source": [
    "Create input-output pairs."
   ]
  },
  {
   "cell_type": "code",
   "execution_count": 6,
   "metadata": {
    "ExecuteTime": {
     "end_time": "2023-12-25T20:42:29.615009745Z",
     "start_time": "2023-12-25T20:42:29.613857339Z"
    },
    "id": "pXSvAYYuVgGb"
   },
   "outputs": [],
   "source": [
    "def split(chunk,lag):\n",
    "    inputs = torch.tensor(chunk[:, :-lag-1, :], device=device)\n",
    "    targets = torch.tensor(chunk[:, lag+1:, :], device=device)\n",
    "    return inputs, targets\n",
    "\n",
    "device = torch.device(\"cuda:0\" if torch.cuda.is_available() else \"cpu\")"
   ]
  },
  {
   "cell_type": "markdown",
   "metadata": {
    "id": "O4j3MvaHVgGb"
   },
   "source": [
    "Loaders"
   ]
  },
  {
   "cell_type": "code",
   "execution_count": 7,
   "metadata": {
    "ExecuteTime": {
     "end_time": "2023-12-25T20:42:29.654944887Z",
     "start_time": "2023-12-25T20:42:29.616457357Z"
    },
    "id": "POqJz8YnVgGb"
   },
   "outputs": [],
   "source": [
    "def createLoaders(dataTrain, dataVal, dataTest, batchSize=32, responseVariables=[1], lag=0):\n",
    "    XTrain, YTrain = split(dataTrain, lag)\n",
    "    XVal, YVal = split(dataVal, lag)\n",
    "    XTest, YTest = split(dataTest, lag)\n",
    "\n",
    "    YTrain = YTrain[:,:,responseVariables]\n",
    "    YVal = YVal[:,:,responseVariables]\n",
    "    YTest = YTest[:,:,responseVariables]\n",
    "\n",
    "    trainDS = torch.utils.data.TensorDataset(XTrain, YTrain)\n",
    "    valDS = torch.utils.data.TensorDataset(XVal, YVal)\n",
    "    testDS = torch.utils.data.TensorDataset(XTest, YTest)\n",
    "\n",
    "    trainLoader = torch.utils.data.DataLoader(trainDS, batch_size=batchSize)\n",
    "    valLoader = torch.utils.data.DataLoader(valDS, batch_size=batchSize)\n",
    "    testLoader = torch.utils.data.DataLoader(testDS, batch_size=batchSize)\n",
    "\n",
    "    return trainLoader, valLoader, testLoader\n"
   ]
  },
  {
   "cell_type": "markdown",
   "metadata": {
    "id": "-tRYDQ8XVgGc"
   },
   "source": [
    "Transformer NN implementation"
   ]
  },
  {
   "cell_type": "code",
   "execution_count": 8,
   "metadata": {
    "ExecuteTime": {
     "end_time": "2023-12-25T20:42:29.951583417Z",
     "start_time": "2023-12-25T20:42:29.940299365Z"
    },
    "id": "iaS9J8xpVgGc"
   },
   "outputs": [],
   "source": [
    "import torch.nn as nn\n",
    "import math\n",
    "\n",
    "class MultiHeadAttention(nn.Module):\n",
    "    def __init__(self, D, H):\n",
    "        super(MultiHeadAttention, self).__init__()\n",
    "        self.H = H # number of heads\n",
    "        self.D = D # dimension\n",
    "        self.wq = nn.Linear(D, D*H)\n",
    "        self.wk = nn.Linear(D, D*H)\n",
    "        self.wv = nn.Linear(D, D*H)\n",
    "\n",
    "        self.dense = nn.Linear(D*H, D)\n",
    "\n",
    "    def concat_heads(self, x):\n",
    "        '''(B, H, S, D) => (B, S, D*H)'''\n",
    "        B, H, S, D = x.shape\n",
    "        x = x.permute((0, 2, 1, 3)).contiguous()  # (B, S, H, D)\n",
    "        x = x.reshape((B, S, H*D))   # (B, S, D*H)\n",
    "        return x\n",
    "\n",
    "    def split_heads(self, x):\n",
    "        '''(B, S, D*H) => (B, H, S, D)'''\n",
    "        B, S, D_H = x.shape\n",
    "        x = x.reshape(B, S, self.H, self.D)    # (B, S, H, D)\n",
    "        x = x.permute((0, 2, 1, 3))  # (B, H, S, D)\n",
    "        return x\n",
    "\n",
    "    def forward(self, x, mask):\n",
    "\n",
    "        q = self.wq(x)  # (B, S, D*H)\n",
    "        k = self.wk(x)  # (B, S, D*H)\n",
    "        v = self.wv(x)  # (B, S, D*H)\n",
    "\n",
    "        q = self.split_heads(q)  # (B, H, S, D)\n",
    "        k = self.split_heads(k)  # (B, H, S, D)\n",
    "        v = self.split_heads(v)  # (B, H, S, D)\n",
    "\n",
    "        attention_scores = torch.matmul(q, k.transpose(-1, -2)) #(B,H,S,S)\n",
    "        attention_scores = attention_scores / math.sqrt(self.D)\n",
    "\n",
    "        # add the mask to the scaled tensor.\n",
    "        if mask is not None:\n",
    "            attention_scores += (mask * -1e9)\n",
    "\n",
    "        attention_weights = nn.Softmax(dim=-1)(attention_scores)\n",
    "        scaled_attention = torch.matmul(attention_weights, v)  # (B, H, S, D)\n",
    "        concat_attention = self.concat_heads(scaled_attention) # (B, S, D*H)\n",
    "        output = self.dense(concat_attention)  # (B, S, D)\n",
    "\n",
    "        return output, attention_weights"
   ]
  },
  {
   "cell_type": "code",
   "execution_count": 9,
   "metadata": {
    "ExecuteTime": {
     "end_time": "2023-12-25T20:42:30.397783729Z",
     "start_time": "2023-12-25T20:42:30.378976394Z"
    },
    "id": "Zx_PZjAVVgGd"
   },
   "outputs": [],
   "source": [
    "# Positional encodings\n",
    "def get_angles(pos, i, D):\n",
    "    angle_rates = 1 / np.power(10000, (2 * (i // 2)) / np.float32(D))\n",
    "    return pos * angle_rates\n",
    "\n",
    "\n",
    "def positional_encoding(D, position=30, dim=3, device=device):\n",
    "    angle_rads = get_angles(np.arange(position)[:, np.newaxis],\n",
    "                            np.arange(D)[np.newaxis, :],\n",
    "                            D)\n",
    "    # apply sin to even indices in the array; 2i\n",
    "    angle_rads[:, 0::2] = np.sin(angle_rads[:, 0::2])\n",
    "    # apply cos to odd indices in the array; 2i+1\n",
    "    angle_rads[:, 1::2] = np.cos(angle_rads[:, 1::2])\n",
    "    if dim == 3:\n",
    "        pos_encoding = angle_rads[np.newaxis, ...]\n",
    "    elif dim == 4:\n",
    "        pos_encoding = angle_rads[np.newaxis,np.newaxis,  ...]\n",
    "    return torch.tensor(pos_encoding, device=device)\n",
    "\n",
    "# function that implement the look_ahead mask for masking future time steps.\n",
    "def create_look_ahead_mask(size, device=device):\n",
    "    mask = torch.ones((size, size), device=device)\n",
    "    mask = torch.triu(mask, diagonal=1).double()\n",
    "    return mask  # (size, size)\n",
    "\n",
    "# create_look_ahead_mask(6)\n",
    "\n",
    "class TransformerLayer(nn.Module):\n",
    "    def __init__(self, D, H, hidden_mlp_dim, dropout_rate):\n",
    "        super(TransformerLayer, self).__init__()\n",
    "        self.dropout_rate = dropout_rate\n",
    "        self.mlp_hidden = nn.Linear(D, hidden_mlp_dim)\n",
    "        self.mlp_out = nn.Linear(hidden_mlp_dim, D)\n",
    "        self.layernorm1 = nn.LayerNorm(D, eps=1e-9)\n",
    "        self.layernorm2 = nn.LayerNorm(D, eps=1e-9)\n",
    "        self.dropout1 = nn.Dropout(dropout_rate)\n",
    "        self.dropout2 = nn.Dropout(dropout_rate)\n",
    "\n",
    "        self.mha = MultiHeadAttention(D, H)\n",
    "\n",
    "\n",
    "    def forward(self, x, look_ahead_mask):\n",
    "\n",
    "        attn, attn_weights = self.mha(x, look_ahead_mask)  # (B, S, D)\n",
    "        attn = self.dropout1(attn) # (B,S,D)\n",
    "        attn = self.layernorm1(attn + x) # (B,S,D)\n",
    "\n",
    "        mlp_act = torch.relu(self.mlp_hidden(attn))\n",
    "        mlp_act = self.mlp_out(mlp_act)\n",
    "        mlp_act = self.dropout2(mlp_act)\n",
    "\n",
    "        output = self.layernorm2(mlp_act + attn)  # (B, S, D)\n",
    "\n",
    "        return output, attn_weights"
   ]
  },
  {
   "cell_type": "code",
   "execution_count": 10,
   "metadata": {
    "ExecuteTime": {
     "end_time": "2023-12-25T20:42:31.016066727Z",
     "start_time": "2023-12-25T20:42:31.010127733Z"
    },
    "id": "y48HIPg4VgGf"
   },
   "outputs": [],
   "source": [
    "class Transformer(nn.Module):\n",
    "    '''Transformer Decoder Implementating several Decoder Layers.\n",
    "    '''\n",
    "    def __init__(self, num_layers, D, H, hidden_mlp_dim, inp_features, out_features, dropout_rate, history):\n",
    "        super(Transformer, self).__init__()\n",
    "        self.sqrt_D = torch.tensor(math.sqrt(D))\n",
    "        self.num_layers = num_layers\n",
    "        self.input_projection = nn.Linear(inp_features, D) # multivariate input\n",
    "        self.output_projection = nn.Linear(D, out_features) # multivariate output\n",
    "        self.pos_encoding = positional_encoding(D, position=history)\n",
    "        self.dec_layers = nn.ModuleList([TransformerLayer(D, H, hidden_mlp_dim,\n",
    "                                        dropout_rate=dropout_rate\n",
    "                                       ) for _ in range(num_layers)])\n",
    "        self.dropout = nn.Dropout(dropout_rate)\n",
    "        self.double()\n",
    "\n",
    "    def forward(self, x, mask):\n",
    "        B, S, D = x.shape\n",
    "        attention_weights = {}\n",
    "        x = self.input_projection(x)\n",
    "        x *= self.sqrt_D\n",
    "\n",
    "        x += self.pos_encoding[:, :S, :]\n",
    "\n",
    "        x = self.dropout(x)\n",
    "\n",
    "        for i in range(self.num_layers):\n",
    "            x, block = self.dec_layers[i](x=x,\n",
    "                                          look_ahead_mask=mask)\n",
    "            attention_weights['decoder_layer{}'.format(i + 1)] = block\n",
    "\n",
    "        x = self.output_projection(x)\n",
    "\n",
    "        return x, attention_weights # (B,S,S)"
   ]
  },
  {
   "cell_type": "markdown",
   "metadata": {
    "id": "oZ8JZVpBVgGg"
   },
   "source": [
    "Metrics with different hyperparameter values"
   ]
  },
  {
   "cell_type": "code",
   "execution_count": null,
   "metadata": {
    "ExecuteTime": {
     "end_time": "2023-12-25T20:48:24.690216811Z",
     "start_time": "2023-12-25T20:42:31.778452836Z"
    },
    "id": "F1CG96-kVgGg"
   },
   "outputs": [],
   "source": [
    "#%pip install -q evaluate\n",
    "import itertools\n",
    "import numpy as np\n",
    "from evaluate import load\n",
    "#!pip3 install tqdm\n",
    "from tqdm import tqdm\n",
    "\n",
    "mase_metric = load(\"evaluate-metric/mase\")\n",
    "smape_metric = load(\"evaluate-metric/smape\")\n",
    "\n",
    "batch = 7*2*12\n",
    "history = 4*12\n",
    "trainData, valData, testData, stats = partition(data,pTrain=0.85,history_size=history,lag=0)\n",
    "trainDataset, valDataset, testDataset = createLoaders(trainData, valData, testData, batchSize=batch, lag=0)\n",
    "\n",
    "# Here we just de-sequence the sequenced training data\n",
    "trainTarget = [target[-1, :] for target in trainData]\n",
    "trainTarget = np.array(trainTarget)\n",
    "trainTarget\n",
    "\n",
    "num_layers_list, lr_list, H_list, mase_list, smape_list, validation_predictions_list = [],[],[],[],[],[]\n",
    "\n",
    "combinations = list(itertools.product([1, 2, 3], [0.00005, 0.0001, 0.0005], [4, 8, 16]))\n",
    "\n",
    "for combination in combinations:\n",
    "\n",
    "    transformer = Transformer(num_layers=combination[0], D=32, H=combination[2], hidden_mlp_dim=32,\n",
    "                                inp_features=4, out_features=1, dropout_rate=0.1, history=history).to(device)\n",
    "    optimizer = torch.optim.RMSprop(transformer.parameters(),\n",
    "                                    lr=combination[1])\n",
    "\n",
    "    # Training\n",
    "\n",
    "    n_epochs = 25\n",
    "    niter = len(trainDataset)\n",
    "    losses = []\n",
    "\n",
    "    for e in tqdm(range(n_epochs)):\n",
    "\n",
    "        # one epoch on train set\n",
    "        transformer.train()\n",
    "        sum_train_loss = 0.0\n",
    "        for x,y in trainDataset:\n",
    "            S = x.shape[1]\n",
    "            mask = create_look_ahead_mask(S)\n",
    "            out, _ = transformer(x, mask)\n",
    "            loss = torch.nn.MSELoss()(out, y)\n",
    "            sum_train_loss += loss.item()\n",
    "            loss.backward()\n",
    "            optimizer.step()\n",
    "        losses.append(sum_train_loss / niter)\n",
    "\n",
    "    # Here we just de-sequence the sequenced validation data\n",
    "    valTarget = [target[-1, :] for target in valData]\n",
    "    valTarget = np.array(valTarget)\n",
    "\n",
    "    # Validation\n",
    "\n",
    "    transformer.eval()\n",
    "\n",
    "    # Here we get the first sequence from the validation dataset - so first days from val data to predict from\n",
    "    it = iter(valDataset)\n",
    "    (inputs, targets) = next(it)\n",
    "    last_x = torch.unsqueeze(inputs[0], 0)  # unsqueeze because of the NN wants it this way, from [[1...5]..[1...5]] to [[[1...5]..[1...5]]]\n",
    "    validation_predictions = []\n",
    "\n",
    "    # While we do not have enough days predicted, we continue\n",
    "    count = 1\n",
    "    while len(validation_predictions) < len(valTarget):\n",
    "        S = last_x.shape[1]\n",
    "        mask = create_look_ahead_mask(S)\n",
    "        # Predict\n",
    "        p, attn = transformer(x=last_x, mask=mask)\n",
    "        # Add the new predicted values for one day to the prediction list\n",
    "        validation_predictions.append(p[0, -1, :].detach().cpu().numpy()[0])\n",
    "        # Roll to predict new day in next iteration\n",
    "        last_x = torch.roll(last_x, -1, dims=1)\n",
    "\n",
    "        try:\n",
    "          next_x = torch.unsqueeze(inputs[count], 0)\n",
    "        except IndexError:\n",
    "          try:\n",
    "              (inputs, targets) = next(it)\n",
    "          except:\n",
    "              break\n",
    "          count = 0\n",
    "          next_x = torch.unsqueeze(inputs[count], 0)\n",
    "\n",
    "        # Add actual values of other variables + predicted value to the values we predict from next\n",
    "        new_values = next_x[:,-1,:]\n",
    "        new_values[:,1] = p[0, -1, :]\n",
    "\n",
    "        last_x[:,-1,:] = new_values\n",
    "        count += 1\n",
    "\n",
    "    # Calculate metrics\n",
    "\n",
    "    validation_predictions_plot = np.array(validation_predictions)*stats[1,1] + stats[0,1]\n",
    "    valTarget = np.array(valTarget)*stats[1,1] + stats[0,1]\n",
    "\n",
    "    mase_training = np.array(trainTarget)*stats[1,1] + stats[0,1]\n",
    "    mase_training = mase_training[:, 1]\n",
    "    mase_result = mase_metric.compute(references=valTarget[:,1], predictions=validation_predictions_plot, training=mase_training)\n",
    "    smape_result = smape_metric.compute(references=valTarget[:,1], predictions=validation_predictions_plot)\n",
    "\n",
    "    print(f'MASE: {mase_result}')\n",
    "    print(f'SMAPE: {smape_result}')\n",
    "\n",
    "    num_layers_list.append(combination[0])\n",
    "    lr_list.append(combination[1])\n",
    "    H_list.append(combination[2])\n",
    "    mase_list.append(mase_result)\n",
    "    smape_list.append(smape_result)\n",
    "    validation_predictions_list.append(validation_predictions_plot)\n",
    "\n",
    "dict = {'num_layers': num_layers_list, 'lr': lr_list, 'H': H_list, 'MASE': mase_list, 'SMAPE': smape_list}\n",
    "df_results = pd.DataFrame(dict)\n",
    "\n",
    "df_results.to_csv('hyperparameter_results_transformer.csv')"
   ]
  },
  {
   "cell_type": "markdown",
   "metadata": {
    "id": "txpIgfqjP9-K"
   },
   "source": [
    "Testing with test partition"
   ]
  },
  {
   "cell_type": "code",
   "execution_count": 12,
   "metadata": {
    "ExecuteTime": {
     "end_time": "2023-12-25T21:44:48.243202209Z",
     "start_time": "2023-12-25T21:44:44.566163687Z"
    },
    "colab": {
     "base_uri": "https://localhost:8080/"
    },
    "id": "OjP3R-mvVgGh",
    "outputId": "72d7d669-947d-48b6-ca00-a47944494b0d"
   },
   "outputs": [
    {
     "name": "stdout",
     "output_type": "stream",
     "text": [
      "[1, 5e-05, 4]\n"
     ]
    },
    {
     "name": "stderr",
     "output_type": "stream",
     "text": [
      "100%|██████████| 25/25 [00:03<00:00,  7.00it/s]\n"
     ]
    },
    {
     "name": "stdout",
     "output_type": "stream",
     "text": [
      "Training time: 3.572578191757202\n"
     ]
    }
   ],
   "source": [
    "# Get the best hyperparameter values\n",
    "\n",
    "df_results = pd.read_csv('hyperparameter_results_transformer.csv')\n",
    "mase_list = df_results['MASE'].tolist()\n",
    "mase_list = np.array([float(value.split(' ')[len(value.split(' ')) -1 ].split('}')[0]) for value in mase_list])\n",
    "\n",
    "opt = [df_results.loc[np.argmin(mase_list),'num_layers'], df_results.loc[np.argmin(mase_list),'lr'], df_results.loc[np.argmin(mase_list),'H']]\n",
    "print(opt)\n",
    "\n",
    "transformer = Transformer(num_layers=opt[0], D=32, H=opt[2], hidden_mlp_dim=32,\n",
    "                            inp_features=4, out_features=1, dropout_rate=0.1, history=history).to(device)\n",
    "optimizer = (torch.\n",
    "             optim.RMSprop(transformer.parameters(),\n",
    "                                lr=opt[1]))\n",
    "\n",
    "# Put de-sequenced training and validation data together\n",
    "trainValTarget = np.concatenate((trainTarget, valTarget), axis=0)\n",
    "\n",
    "# Training with training and validation sets\n",
    "\n",
    "n_epochs = 25\n",
    "niter = len(trainDataset) + len(valDataset)\n",
    "losses = []\n",
    "\n",
    "start = time.time()\n",
    "for e in tqdm(range(n_epochs)):\n",
    "\n",
    "    transformer.train()\n",
    "    sum_train_loss = 0.0\n",
    "    for x,y in trainDataset:\n",
    "        S = x.shape[1]\n",
    "        mask = create_look_ahead_mask(S)\n",
    "        out, _ = transformer(x, mask)\n",
    "        loss = torch.nn.MSELoss()(out, y)\n",
    "        sum_train_loss += loss.item()\n",
    "        loss.backward()\n",
    "        optimizer.step()\n",
    "\n",
    "    for x,y in valDataset:\n",
    "        S = x.shape[1]\n",
    "        mask = create_look_ahead_mask(S)\n",
    "        out, _ = transformer(x, mask)\n",
    "        loss = torch.nn.MSELoss()(out, y)\n",
    "        sum_train_loss += loss.item()\n",
    "        loss.backward()\n",
    "        optimizer.step()\n",
    "\n",
    "    losses.append(sum_train_loss / niter)\n",
    "end = time.time()\n",
    "print(\"Training time: \" + str(end - start))\n",
    "\n",
    "# Here we just de-sequence the sequenced test data\n",
    "testTarget = [target[-1, :] for target in testData]\n",
    "testTarget = np.array(testTarget)\n",
    "testTarget\n",
    "\n",
    "# Testing\n",
    "\n",
    "transformer.eval()\n",
    "\n",
    "# Here we get the first sequence from the test dataset - so first days from test data to predict from\n",
    "it = iter(testDataset)\n",
    "(inputs, targets) = next(it)\n",
    "last_x = torch.unsqueeze(inputs[0], 0)  # unsqueeze because of the NN wants it this way, from [[1...5]..[1...5]] to [[[1...5]..[1...5]]]\n",
    "test_predictions = []\n",
    "\n",
    "# While we do not have enough days predicted, we continue\n",
    "count = 1\n",
    "while len(test_predictions) < len(testTarget):\n",
    "    S = last_x.shape[1]\n",
    "    mask = create_look_ahead_mask(S)\n",
    "    # Predict\n",
    "    p, attn = transformer(x=last_x, mask=mask)\n",
    "    # Add the new predicted values for one day to the prediction list\n",
    "    test_predictions.append(p[0, -1, :].detach().cpu().numpy()[0])\n",
    "    # Roll to predict new day in next iteration\n",
    "    last_x = torch.roll(last_x, -1, dims=1)\n",
    "\n",
    "    try:\n",
    "      next_x = torch.unsqueeze(inputs[count], 0)\n",
    "    except IndexError:\n",
    "      try:\n",
    "          (inputs, targets) = next(it)\n",
    "      except:\n",
    "          break\n",
    "      count = 0\n",
    "      next_x = torch.unsqueeze(inputs[count], 0)\n",
    "\n",
    "    # Add actual values of other variables + predicted value to the values we predict from next\n",
    "    new_values = next_x[:,-1,:]\n",
    "    new_values[:,1] = p[0, -1, :]\n",
    "\n",
    "    last_x[:,-1,:] = new_values\n",
    "    count += 1\n"
   ]
  },
  {
   "cell_type": "code",
   "execution_count": 13,
   "metadata": {
    "ExecuteTime": {
     "end_time": "2023-12-25T21:45:02.438441044Z",
     "start_time": "2023-12-25T21:45:02.297716836Z"
    },
    "colab": {
     "base_uri": "https://localhost:8080/",
     "height": 452
    },
    "id": "S1He9yTIVgGh",
    "outputId": "cc2726b8-6353-4c32-9414-33deb78985c3"
   },
   "outputs": [
    {
     "data": {
      "image/png": "[encoded data removed]",
      "text/plain": [
       "<Figure size 640x480 with 1 Axes>"
      ]
     },
     "metadata": {},
     "output_type": "display_data"
    }
   ],
   "source": [
    "test_predictions_plot = np.array(test_predictions)*stats[1,1] + stats[0,1]\n",
    "testTarget = np.array(testTarget)*stats[1,1] + stats[0,1]\n",
    "\n",
    "plt.plot(test_predictions_plot, label=\"predictions\")\n",
    "plt.plot(testTarget[:, 1], label=\"target\")\n",
    "plt.title(\"Transformer Predictions\")\n",
    "plt.legend()\n",
    "plt.show()"
   ]
  },
  {
   "cell_type": "code",
   "execution_count": 14,
   "metadata": {
    "ExecuteTime": {
     "end_time": "2023-12-25T21:57:53.672880114Z",
     "start_time": "2023-12-25T21:57:53.274885521Z"
    },
    "colab": {
     "base_uri": "https://localhost:8080/"
    },
    "id": "8iVYqvYUO-No",
    "outputId": "f151f151-db4b-432f-eea3-671281903136"
   },
   "outputs": [
    {
     "name": "stdout",
     "output_type": "stream",
     "text": [
      "MASE: {'mase': 0.6852957176922095}\n",
      "SMAPE: {'smape': 0.17554129075185837}\n"
     ]
    }
   ],
   "source": [
    "\n",
    "mase_training = np.array(trainValTarget)*stats[1,1] + stats[0,1]\n",
    "mase_training = mase_training[:, 1]\n",
    "mase_result = mase_metric.compute(references=testTarget[:,1], predictions=test_predictions_plot, training=mase_training)\n",
    "smape_result = smape_metric.compute(references=testTarget[:,1], predictions=test_predictions_plot)\n",
    "\n",
    "print(f'MASE: {mase_result}')\n",
    "print(f'SMAPE: {smape_result}')\n",
    "\n",
    "mase_forecast_power = [mase_result]\n",
    "smape_forecast_power = [smape_result]\n",
    "mse_forecast_power = [mean_squared_error(testTarget[:,1], test_predictions_plot)]\n",
    "\n",
    "for i in range(1,len(test_predictions_plot)):\n",
    "    mase_forecast_power.append(mase_metric.compute(references=testTarget[:-i,1], predictions=test_predictions_plot[:-i], training=mase_training))\n",
    "    smape_forecast_power.append(smape_metric.compute(references=testTarget[:-i,1], predictions=test_predictions_plot[:-i]))\n",
    "    mse_forecast_power.append(mean_squared_error(testTarget[:-i,1], test_predictions_plot[:-i]))\n",
    "\n",
    "df_dict = {'tnn_mase_forecast_power': mase_forecast_power[::-1], 'tnn_smape_forecast_power': smape_forecast_power[::-1], 'tnn_mse_forecast_power': mse_forecast_power[::-1]}\n",
    "df_results = pd.DataFrame(df_dict)\n",
    "\n",
    "df_results.to_csv('forecast_power_tnn.csv')"
   ]
  },
  {
   "cell_type": "code",
   "execution_count": null,
   "metadata": {
    "collapsed": false
   },
   "outputs": [],
   "source": []
  }
 ],
 "metadata": {
  "accelerator": "GPU",
  "colab": {
   "gpuType": "T4",
   "provenance": []
  },
  "kernelspec": {
   "display_name": "Python 3 (ipykernel)",
   "language": "python",
   "name": "python3"
  },
  "language_info": {
   "codemirror_mode": {
    "name": "ipython",
    "version": 3
   },
   "file_extension": ".py",
   "mimetype": "text/x-python",
   "name": "python",
   "nbconvert_exporter": "python",
   "pygments_lexer": "ipython3",
   "version": "3.11.2"
  },
  "orig_nbformat": 4
 },
 "nbformat": 4,
 "nbformat_minor": 0
}
