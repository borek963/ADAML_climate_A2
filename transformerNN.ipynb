{
 "cells": [
  {
   "attachments": {},
   "cell_type": "markdown",
   "metadata": {},
   "source": [
    "Source: This example comes from the torch adaptation of Charles Ollion [/github/charlesollion]."
   ]
  },
  {
   "cell_type": "code",
   "execution_count": 1,
   "metadata": {
    "ExecuteTime": {
     "end_time": "2023-12-10T09:50:49.373809926Z",
     "start_time": "2023-12-10T09:50:46.665308232Z"
    }
   },
   "outputs": [],
   "source": [
    "\n",
    "import torch\n",
    "import numpy as np\n",
    "import pandas as pd\n",
    "from sklearn.model_selection import train_test_split\n",
    "import time\n",
    "import matplotlib.pyplot as plt"
   ]
  },
  {
   "attachments": {},
   "cell_type": "markdown",
   "metadata": {},
   "source": [
    "Data Acquisition"
   ]
  },
  {
   "cell_type": "code",
   "execution_count": 37,
   "outputs": [
    {
     "name": "stdout",
     "output_type": "stream",
     "text": [
      "100% [....................................................] 11979363 / 11979363\r\n",
      "Saved under energydata_complete (1).csv\r\n"
     ]
    }
   ],
   "source": [
    "!python3 -m wget https://raw.githubusercontent.com/LuisM78/Appliances-energy-prediction-data/master/energydata_complete.csv"
   ],
   "metadata": {
    "collapsed": false,
    "ExecuteTime": {
     "end_time": "2023-12-10T09:32:17.530035574Z",
     "start_time": "2023-12-10T09:32:16.000736461Z"
    }
   }
  },
  {
   "cell_type": "code",
   "execution_count": 39,
   "outputs": [
    {
     "data": {
      "text/plain": "                     Appliances  lights         T1       RH_1         T2  \\\ndate                                                                       \n2016-01-11 17:00:00          60      30  19.890000  47.596667  19.200000   \n2016-01-11 17:10:00          60      30  19.890000  46.693333  19.200000   \n2016-01-11 17:20:00          50      30  19.890000  46.300000  19.200000   \n2016-01-11 17:30:00          50      40  19.890000  46.066667  19.200000   \n2016-01-11 17:40:00          60      40  19.890000  46.333333  19.200000   \n...                         ...     ...        ...        ...        ...   \n2016-05-27 17:20:00         100       0  25.566667  46.560000  25.890000   \n2016-05-27 17:30:00          90       0  25.500000  46.500000  25.754000   \n2016-05-27 17:40:00         270      10  25.500000  46.596667  25.628571   \n2016-05-27 17:50:00         420      10  25.500000  46.990000  25.414000   \n2016-05-27 18:00:00         430      10  25.500000  46.600000  25.264286   \n\n                          RH_2         T3       RH_3         T4       RH_4  \\\ndate                                                                         \n2016-01-11 17:00:00  44.790000  19.790000  44.730000  19.000000  45.566667   \n2016-01-11 17:10:00  44.722500  19.790000  44.790000  19.000000  45.992500   \n2016-01-11 17:20:00  44.626667  19.790000  44.933333  18.926667  45.890000   \n2016-01-11 17:30:00  44.590000  19.790000  45.000000  18.890000  45.723333   \n2016-01-11 17:40:00  44.530000  19.790000  45.000000  18.890000  45.530000   \n...                        ...        ...        ...        ...        ...   \n2016-05-27 17:20:00  42.025714  27.200000  41.163333  24.700000  45.590000   \n2016-05-27 17:30:00  42.080000  27.133333  41.223333  24.700000  45.590000   \n2016-05-27 17:40:00  42.768571  27.050000  41.690000  24.700000  45.730000   \n2016-05-27 17:50:00  43.036000  26.890000  41.290000  24.700000  45.790000   \n2016-05-27 18:00:00  42.971429  26.823333  41.156667  24.700000  45.963333   \n\n                     ...         T9     RH_9      T_out  Press_mm_hg  \\\ndate                 ...                                               \n2016-01-11 17:00:00  ...  17.033333  45.5300   6.600000        733.5   \n2016-01-11 17:10:00  ...  17.066667  45.5600   6.483333        733.6   \n2016-01-11 17:20:00  ...  17.000000  45.5000   6.366667        733.7   \n2016-01-11 17:30:00  ...  17.000000  45.4000   6.250000        733.8   \n2016-01-11 17:40:00  ...  17.000000  45.4000   6.133333        733.9   \n...                  ...        ...      ...        ...          ...   \n2016-05-27 17:20:00  ...  23.200000  46.7900  22.733333        755.2   \n2016-05-27 17:30:00  ...  23.200000  46.7900  22.600000        755.2   \n2016-05-27 17:40:00  ...  23.200000  46.7900  22.466667        755.2   \n2016-05-27 17:50:00  ...  23.200000  46.8175  22.333333        755.2   \n2016-05-27 18:00:00  ...  23.200000  46.8450  22.200000        755.2   \n\n                        RH_out  Windspeed  Visibility  Tdewpoint        rv1  \\\ndate                                                                          \n2016-01-11 17:00:00  92.000000   7.000000   63.000000   5.300000  13.275433   \n2016-01-11 17:10:00  92.000000   6.666667   59.166667   5.200000  18.606195   \n2016-01-11 17:20:00  92.000000   6.333333   55.333333   5.100000  28.642668   \n2016-01-11 17:30:00  92.000000   6.000000   51.500000   5.000000  45.410389   \n2016-01-11 17:40:00  92.000000   5.666667   47.666667   4.900000  10.084097   \n...                        ...        ...         ...        ...        ...   \n2016-05-27 17:20:00  55.666667   3.333333   23.666667  13.333333  43.096812   \n2016-05-27 17:30:00  56.000000   3.500000   24.500000  13.300000  49.282940   \n2016-05-27 17:40:00  56.333333   3.666667   25.333333  13.266667  29.199117   \n2016-05-27 17:50:00  56.666667   3.833333   26.166667  13.233333   6.322784   \n2016-05-27 18:00:00  57.000000   4.000000   27.000000  13.200000  34.118851   \n\n                           rv2  \ndate                            \n2016-01-11 17:00:00  13.275433  \n2016-01-11 17:10:00  18.606195  \n2016-01-11 17:20:00  28.642668  \n2016-01-11 17:30:00  45.410389  \n2016-01-11 17:40:00  10.084097  \n...                        ...  \n2016-05-27 17:20:00  43.096812  \n2016-05-27 17:30:00  49.282940  \n2016-05-27 17:40:00  29.199117  \n2016-05-27 17:50:00   6.322784  \n2016-05-27 18:00:00  34.118851  \n\n[19735 rows x 28 columns]",
      "text/html": "<div>\n<style scoped>\n    .dataframe tbody tr th:only-of-type {\n        vertical-align: middle;\n    }\n\n    .dataframe tbody tr th {\n        vertical-align: top;\n    }\n\n    .dataframe thead th {\n        text-align: right;\n    }\n</style>\n<table border=\"1\" class=\"dataframe\">\n  <thead>\n    <tr style=\"text-align: right;\">\n      <th></th>\n      <th>Appliances</th>\n      <th>lights</th>\n      <th>T1</th>\n      <th>RH_1</th>\n      <th>T2</th>\n      <th>RH_2</th>\n      <th>T3</th>\n      <th>RH_3</th>\n      <th>T4</th>\n      <th>RH_4</th>\n      <th>...</th>\n      <th>T9</th>\n      <th>RH_9</th>\n      <th>T_out</th>\n      <th>Press_mm_hg</th>\n      <th>RH_out</th>\n      <th>Windspeed</th>\n      <th>Visibility</th>\n      <th>Tdewpoint</th>\n      <th>rv1</th>\n      <th>rv2</th>\n    </tr>\n    <tr>\n      <th>date</th>\n      <th></th>\n      <th></th>\n      <th></th>\n      <th></th>\n      <th></th>\n      <th></th>\n      <th></th>\n      <th></th>\n      <th></th>\n      <th></th>\n      <th></th>\n      <th></th>\n      <th></th>\n      <th></th>\n      <th></th>\n      <th></th>\n      <th></th>\n      <th></th>\n      <th></th>\n      <th></th>\n      <th></th>\n    </tr>\n  </thead>\n  <tbody>\n    <tr>\n      <th>2016-01-11 17:00:00</th>\n      <td>60</td>\n      <td>30</td>\n      <td>19.890000</td>\n      <td>47.596667</td>\n      <td>19.200000</td>\n      <td>44.790000</td>\n      <td>19.790000</td>\n      <td>44.730000</td>\n      <td>19.000000</td>\n      <td>45.566667</td>\n      <td>...</td>\n      <td>17.033333</td>\n      <td>45.5300</td>\n      <td>6.600000</td>\n      <td>733.5</td>\n      <td>92.000000</td>\n      <td>7.000000</td>\n      <td>63.000000</td>\n      <td>5.300000</td>\n      <td>13.275433</td>\n      <td>13.275433</td>\n    </tr>\n    <tr>\n      <th>2016-01-11 17:10:00</th>\n      <td>60</td>\n      <td>30</td>\n      <td>19.890000</td>\n      <td>46.693333</td>\n      <td>19.200000</td>\n      <td>44.722500</td>\n      <td>19.790000</td>\n      <td>44.790000</td>\n      <td>19.000000</td>\n      <td>45.992500</td>\n      <td>...</td>\n      <td>17.066667</td>\n      <td>45.5600</td>\n      <td>6.483333</td>\n      <td>733.6</td>\n      <td>92.000000</td>\n      <td>6.666667</td>\n      <td>59.166667</td>\n      <td>5.200000</td>\n      <td>18.606195</td>\n      <td>18.606195</td>\n    </tr>\n    <tr>\n      <th>2016-01-11 17:20:00</th>\n      <td>50</td>\n      <td>30</td>\n      <td>19.890000</td>\n      <td>46.300000</td>\n      <td>19.200000</td>\n      <td>44.626667</td>\n      <td>19.790000</td>\n      <td>44.933333</td>\n      <td>18.926667</td>\n      <td>45.890000</td>\n      <td>...</td>\n      <td>17.000000</td>\n      <td>45.5000</td>\n      <td>6.366667</td>\n      <td>733.7</td>\n      <td>92.000000</td>\n      <td>6.333333</td>\n      <td>55.333333</td>\n      <td>5.100000</td>\n      <td>28.642668</td>\n      <td>28.642668</td>\n    </tr>\n    <tr>\n      <th>2016-01-11 17:30:00</th>\n      <td>50</td>\n      <td>40</td>\n      <td>19.890000</td>\n      <td>46.066667</td>\n      <td>19.200000</td>\n      <td>44.590000</td>\n      <td>19.790000</td>\n      <td>45.000000</td>\n      <td>18.890000</td>\n      <td>45.723333</td>\n      <td>...</td>\n      <td>17.000000</td>\n      <td>45.4000</td>\n      <td>6.250000</td>\n      <td>733.8</td>\n      <td>92.000000</td>\n      <td>6.000000</td>\n      <td>51.500000</td>\n      <td>5.000000</td>\n      <td>45.410389</td>\n      <td>45.410389</td>\n    </tr>\n    <tr>\n      <th>2016-01-11 17:40:00</th>\n      <td>60</td>\n      <td>40</td>\n      <td>19.890000</td>\n      <td>46.333333</td>\n      <td>19.200000</td>\n      <td>44.530000</td>\n      <td>19.790000</td>\n      <td>45.000000</td>\n      <td>18.890000</td>\n      <td>45.530000</td>\n      <td>...</td>\n      <td>17.000000</td>\n      <td>45.4000</td>\n      <td>6.133333</td>\n      <td>733.9</td>\n      <td>92.000000</td>\n      <td>5.666667</td>\n      <td>47.666667</td>\n      <td>4.900000</td>\n      <td>10.084097</td>\n      <td>10.084097</td>\n    </tr>\n    <tr>\n      <th>...</th>\n      <td>...</td>\n      <td>...</td>\n      <td>...</td>\n      <td>...</td>\n      <td>...</td>\n      <td>...</td>\n      <td>...</td>\n      <td>...</td>\n      <td>...</td>\n      <td>...</td>\n      <td>...</td>\n      <td>...</td>\n      <td>...</td>\n      <td>...</td>\n      <td>...</td>\n      <td>...</td>\n      <td>...</td>\n      <td>...</td>\n      <td>...</td>\n      <td>...</td>\n      <td>...</td>\n    </tr>\n    <tr>\n      <th>2016-05-27 17:20:00</th>\n      <td>100</td>\n      <td>0</td>\n      <td>25.566667</td>\n      <td>46.560000</td>\n      <td>25.890000</td>\n      <td>42.025714</td>\n      <td>27.200000</td>\n      <td>41.163333</td>\n      <td>24.700000</td>\n      <td>45.590000</td>\n      <td>...</td>\n      <td>23.200000</td>\n      <td>46.7900</td>\n      <td>22.733333</td>\n      <td>755.2</td>\n      <td>55.666667</td>\n      <td>3.333333</td>\n      <td>23.666667</td>\n      <td>13.333333</td>\n      <td>43.096812</td>\n      <td>43.096812</td>\n    </tr>\n    <tr>\n      <th>2016-05-27 17:30:00</th>\n      <td>90</td>\n      <td>0</td>\n      <td>25.500000</td>\n      <td>46.500000</td>\n      <td>25.754000</td>\n      <td>42.080000</td>\n      <td>27.133333</td>\n      <td>41.223333</td>\n      <td>24.700000</td>\n      <td>45.590000</td>\n      <td>...</td>\n      <td>23.200000</td>\n      <td>46.7900</td>\n      <td>22.600000</td>\n      <td>755.2</td>\n      <td>56.000000</td>\n      <td>3.500000</td>\n      <td>24.500000</td>\n      <td>13.300000</td>\n      <td>49.282940</td>\n      <td>49.282940</td>\n    </tr>\n    <tr>\n      <th>2016-05-27 17:40:00</th>\n      <td>270</td>\n      <td>10</td>\n      <td>25.500000</td>\n      <td>46.596667</td>\n      <td>25.628571</td>\n      <td>42.768571</td>\n      <td>27.050000</td>\n      <td>41.690000</td>\n      <td>24.700000</td>\n      <td>45.730000</td>\n      <td>...</td>\n      <td>23.200000</td>\n      <td>46.7900</td>\n      <td>22.466667</td>\n      <td>755.2</td>\n      <td>56.333333</td>\n      <td>3.666667</td>\n      <td>25.333333</td>\n      <td>13.266667</td>\n      <td>29.199117</td>\n      <td>29.199117</td>\n    </tr>\n    <tr>\n      <th>2016-05-27 17:50:00</th>\n      <td>420</td>\n      <td>10</td>\n      <td>25.500000</td>\n      <td>46.990000</td>\n      <td>25.414000</td>\n      <td>43.036000</td>\n      <td>26.890000</td>\n      <td>41.290000</td>\n      <td>24.700000</td>\n      <td>45.790000</td>\n      <td>...</td>\n      <td>23.200000</td>\n      <td>46.8175</td>\n      <td>22.333333</td>\n      <td>755.2</td>\n      <td>56.666667</td>\n      <td>3.833333</td>\n      <td>26.166667</td>\n      <td>13.233333</td>\n      <td>6.322784</td>\n      <td>6.322784</td>\n    </tr>\n    <tr>\n      <th>2016-05-27 18:00:00</th>\n      <td>430</td>\n      <td>10</td>\n      <td>25.500000</td>\n      <td>46.600000</td>\n      <td>25.264286</td>\n      <td>42.971429</td>\n      <td>26.823333</td>\n      <td>41.156667</td>\n      <td>24.700000</td>\n      <td>45.963333</td>\n      <td>...</td>\n      <td>23.200000</td>\n      <td>46.8450</td>\n      <td>22.200000</td>\n      <td>755.2</td>\n      <td>57.000000</td>\n      <td>4.000000</td>\n      <td>27.000000</td>\n      <td>13.200000</td>\n      <td>34.118851</td>\n      <td>34.118851</td>\n    </tr>\n  </tbody>\n</table>\n<p>19735 rows × 28 columns</p>\n</div>"
     },
     "execution_count": 39,
     "metadata": {},
     "output_type": "execute_result"
    }
   ],
   "source": [
    "df = pd.read_csv(\"energydata_complete.csv\", index_col='date', parse_dates=['date'])\n",
    "df"
   ],
   "metadata": {
    "collapsed": false,
    "ExecuteTime": {
     "end_time": "2023-12-10T09:34:32.146320188Z",
     "start_time": "2023-12-10T09:34:32.053397915Z"
    }
   }
  },
  {
   "cell_type": "code",
   "execution_count": 220,
   "outputs": [],
   "source": [
    "df = pd.read_csv(\"preprocessed_dataset.csv\")\n",
    "df = df.set_index('date')\n",
    "df.index = pd.to_datetime(df.index)"
   ],
   "metadata": {
    "collapsed": false,
    "ExecuteTime": {
     "end_time": "2023-12-10T11:13:41.200488193Z",
     "start_time": "2023-12-10T11:13:41.160170533Z"
    }
   }
  },
  {
   "attachments": {},
   "cell_type": "markdown",
   "metadata": {},
   "source": [
    "Data loading and preprocessing. Data is similar to project work, and has"
   ]
  },
  {
   "cell_type": "code",
   "execution_count": 221,
   "metadata": {
    "ExecuteTime": {
     "end_time": "2023-12-10T11:13:41.569133225Z",
     "start_time": "2023-12-10T11:13:41.566002979Z"
    }
   },
   "outputs": [],
   "source": [
    "# def floatation(df, attributes):\n",
    "#     for var in attributes:\n",
    "#         df[var] = df[var].astype(str)            # converting to string\n",
    "#         df[var] = df[var].str.replace(',', '.')  # replacing the commas with dot decimal separatpr\n",
    "#         df[var] = df[var].astype(np.float32)     # converting the values into dot\n",
    "#     return df\n",
    "# df = pd.read_csv(\"energydata_complete.csv\", index_col='date', parse_dates=['date'])\n",
    "# print(df.head())"
   ]
  },
  {
   "cell_type": "code",
   "execution_count": 304,
   "metadata": {
    "ExecuteTime": {
     "end_time": "2023-12-10T11:29:47.888534260Z",
     "start_time": "2023-12-10T11:29:47.841775473Z"
    }
   },
   "outputs": [],
   "source": [
    "attributes = list(df.columns)\n",
    "data = df.values"
   ]
  },
  {
   "attachments": {},
   "cell_type": "markdown",
   "metadata": {},
   "source": [
    "Function for splitting the dataset into sequences of observations of length history size."
   ]
  },
  {
   "cell_type": "code",
   "execution_count": 305,
   "metadata": {
    "ExecuteTime": {
     "end_time": "2023-12-10T11:29:48.393390337Z",
     "start_time": "2023-12-10T11:29:48.388012055Z"
    }
   },
   "outputs": [],
   "source": [
    "def sequencing(dataset, start_index=0, end_index=None, history_size=31, step=1):\n",
    "    data = []\n",
    "    start_index = start_index + history_size\n",
    "    if end_index is None:\n",
    "        end_index = len(dataset)\n",
    "    for i in range(start_index, end_index):\n",
    "        indices = range(i - history_size, i, step)\n",
    "        data.append(dataset[indices])\n",
    "    return np.array(data)\n"
   ]
  },
  {
   "attachments": {},
   "cell_type": "markdown",
   "metadata": {},
   "source": [
    "Function for splitting the dataset into training and validation, and data normalization."
   ]
  },
  {
   "cell_type": "code",
   "execution_count": 306,
   "metadata": {
    "ExecuteTime": {
     "end_time": "2023-12-10T11:29:49.566246072Z",
     "start_time": "2023-12-10T11:29:49.561177572Z"
    }
   },
   "outputs": [],
   "source": [
    "def partition(data, pTrain=0.8, pVal = 0.5, save_path=None):\n",
    "    # I don't like this normalization before training thingie\n",
    "    data_mean = data.mean(axis=0)\n",
    "    data_std = data.std(axis=0)\n",
    "    data = (data - data_mean)/data_std\n",
    "    stats = (data_mean, data_std)\n",
    "\n",
    "    sequencedData = sequencing(data, start_index=0, end_index=None, history_size=31, step=1)\n",
    "    # plt.plot(sequencedData[:, 0, 0])\n",
    "    # plt.show()\n",
    "\n",
    "    dataTrain = sequencedData[:int(sequencedData.shape[0]*0.8), :, :]\n",
    "    dataVal = sequencedData[int(sequencedData.shape[0]*0.8):int(sequencedData.shape[0]*0.9), :, :]\n",
    "    dataTest = sequencedData[int(sequencedData.shape[0]*0.9):, :, :]\n",
    "\n",
    "    return dataTrain, dataVal, dataTest"
   ]
  },
  {
   "attachments": {},
   "cell_type": "markdown",
   "metadata": {},
   "source": [
    "Create input-putput pairs."
   ]
  },
  {
   "cell_type": "code",
   "execution_count": 307,
   "metadata": {
    "ExecuteTime": {
     "end_time": "2023-12-10T11:29:51.032928187Z",
     "start_time": "2023-12-10T11:29:51.028612764Z"
    }
   },
   "outputs": [],
   "source": [
    "def split(chunk):\n",
    "    inputs = torch.tensor(chunk[:, :-1, :], device=device) # What about that device?\n",
    "    targets = torch.tensor(chunk[:, 1:, :], device=device)\n",
    "    return inputs, targets\n",
    "\n",
    "device = torch.device(\"cuda:0\" if torch.cuda.is_available() else \"cpu\")"
   ]
  },
  {
   "attachments": {},
   "cell_type": "markdown",
   "metadata": {},
   "source": [
    "Loaders"
   ]
  },
  {
   "cell_type": "code",
   "execution_count": 308,
   "outputs": [
    {
     "name": "stdout",
     "output_type": "stream",
     "text": [
      "torch.Size([32, 30, 4])\n",
      "torch.Size([32, 30, 4])\n"
     ]
    }
   ],
   "source": [
    "def createLoaders(dataTrain, dataVal, dataTest, batchSize=32, responseVariables=[0, 1, 2, 3]):\n",
    "    XTrain, YTrain = split(dataTrain)\n",
    "    XVal, YVal = split(dataVal)\n",
    "    XTest, YTest = split(dataTest)\n",
    "\n",
    "    YTrain = torch.unsqueeze(YTrain[:,:,responseVariables], 2) if len(responseVariables) == 1 else YTrain[:,:,responseVariables]\n",
    "    YVal = torch.unsqueeze(YVal[:,:,responseVariables], 2) if len(responseVariables) == 1 else YVal[:,:,responseVariables]\n",
    "    YTest = torch.unsqueeze(YTest[:,:,responseVariables], 2) if len(responseVariables) == 1 else YTest[:,:,responseVariables]\n",
    "    \n",
    "    # XTrain = torch.cat([XTrain[:, :, :responseVariables], XTrain[:, :, responseVariables+1:]], dim=2)\n",
    "    # XVal = torch.cat([XVal[:, :, :responseVariables], XVal[:, :, responseVariables+1:]], dim=2)\n",
    "    # XTest = torch.cat([XTest[:, :, :responseVariables], XTest[:, :, responseVariables+1:]], dim=2)\n",
    "    \n",
    "    trainDS = torch.utils.data.TensorDataset(XTrain, YTrain)\n",
    "    valDS = torch.utils.data.TensorDataset(XVal, YVal)\n",
    "    testDS = torch.utils.data.TensorDataset(XTest, YTest)\n",
    "\n",
    "    trainLoader = torch.utils.data.DataLoader(trainDS, batch_size=batchSize)\n",
    "    valLoader = torch.utils.data.DataLoader(valDS, batch_size=batchSize)\n",
    "    testLoader = torch.utils.data.DataLoader(testDS, batch_size=batchSize)\n",
    "\n",
    "    return trainLoader, valLoader, testLoader\n",
    "\n",
    "trainData, valData, testData = partition(data)\n",
    "trainDataset, valDataset, testDataset = createLoaders(trainData, valData, testData)\n",
    "\n",
    "(inputs, targets) = next(iter(trainDataset))\n",
    "print(inputs.shape)\n",
    "print(targets.shape)\n",
    "                         "
   ],
   "metadata": {
    "collapsed": false,
    "ExecuteTime": {
     "end_time": "2023-12-10T11:29:53.127401695Z",
     "start_time": "2023-12-10T11:29:53.103555423Z"
    }
   }
  },
  {
   "cell_type": "code",
   "execution_count": 309,
   "outputs": [
    {
     "data": {
      "text/plain": "<Figure size 640x480 with 1 Axes>",
      "image/png": "[encoded data removed]"
     },
     "metadata": {},
     "output_type": "display_data"
    }
   ],
   "source": [
    "# %matplotlib qt\n",
    "%matplotlib inline\n",
    "plt.plot(np.array(list(range(trainData[:, 0, 0].shape[0]))), trainData[:, 0, 0])\n",
    "plt.plot(np.array(list(range(trainData[:, 0, 0].shape[0], \n",
    "                             trainData[:, 0, 0].shape[0] + valData[:, 0, 0].shape[0]))), valData[:, 0, 0])\n",
    "plt.plot(np.array(list(range(trainData[:, 0, 0].shape[0] + valData[:, 0, 0].shape[0], \n",
    "                             trainData[:, 0, 0].shape[0] + valData[:, 0, 0].shape[0] + testData[:, 0, 0].shape[0]))), testData[:, 0, 0])\n",
    "plt.show()"
   ],
   "metadata": {
    "collapsed": false,
    "ExecuteTime": {
     "end_time": "2023-12-10T11:29:54.685581966Z",
     "start_time": "2023-12-10T11:29:54.620403259Z"
    }
   }
  },
  {
   "attachments": {},
   "cell_type": "markdown",
   "metadata": {},
   "source": [
    "Transformer NN implementation"
   ]
  },
  {
   "cell_type": "code",
   "execution_count": 310,
   "metadata": {
    "ExecuteTime": {
     "end_time": "2023-12-10T11:29:56.192131418Z",
     "start_time": "2023-12-10T11:29:56.187674198Z"
    }
   },
   "outputs": [],
   "source": [
    "import torch.nn as nn\n",
    "import math\n",
    "\n",
    "class MultiHeadAttention(nn.Module):\n",
    "    def __init__(self, D, H):\n",
    "        super(MultiHeadAttention, self).__init__()\n",
    "        self.H = H # number of heads\n",
    "        self.D = D # dimension\n",
    "        \n",
    "        self.wq = nn.Linear(D, D*H)\n",
    "        self.wk = nn.Linear(D, D*H)\n",
    "        self.wv = nn.Linear(D, D*H)\n",
    "\n",
    "        self.dense = nn.Linear(D*H, D)\n",
    "\n",
    "    def concat_heads(self, x):\n",
    "        '''(B, H, S, D) => (B, S, D*H)'''\n",
    "        B, H, S, D = x.shape\n",
    "        x = x.permute((0, 2, 1, 3)).contiguous()  # (B, S, H, D)\n",
    "        x = x.reshape((B, S, H*D))   # (B, S, D*H)\n",
    "        return x\n",
    "\n",
    "    def split_heads(self, x):\n",
    "        '''(B, S, D*H) => (B, H, S, D)'''\n",
    "        B, S, D_H = x.shape\n",
    "        x = x.reshape(B, S, self.H, self.D)    # (B, S, H, D)\n",
    "        x = x.permute((0, 2, 1, 3))  # (B, H, S, D)\n",
    "        return x\n",
    "\n",
    "    def forward(self, x, mask):\n",
    "\n",
    "        q = self.wq(x)  # (B, S, D*H)\n",
    "        k = self.wk(x)  # (B, S, D*H)\n",
    "        v = self.wv(x)  # (B, S, D*H)\n",
    "\n",
    "        q = self.split_heads(q)  # (B, H, S, D)\n",
    "        k = self.split_heads(k)  # (B, H, S, D)\n",
    "        v = self.split_heads(v)  # (B, H, S, D)\n",
    "\n",
    "        attention_scores = torch.matmul(q, k.transpose(-1, -2)) #(B,H,S,S)\n",
    "        attention_scores = attention_scores / math.sqrt(self.D)\n",
    "\n",
    "        # add the mask to the scaled tensor.\n",
    "        if mask is not None:\n",
    "            attention_scores += (mask * -1e9)\n",
    "        \n",
    "        attention_weights = nn.Softmax(dim=-1)(attention_scores)\n",
    "        scaled_attention = torch.matmul(attention_weights, v)  # (B, H, S, D)\n",
    "        concat_attention = self.concat_heads(scaled_attention) # (B, S, D*H)\n",
    "        output = self.dense(concat_attention)  # (B, S, D)\n",
    "\n",
    "        return output, attention_weights"
   ]
  },
  {
   "cell_type": "code",
   "execution_count": 311,
   "metadata": {
    "ExecuteTime": {
     "end_time": "2023-12-10T11:29:56.899425740Z",
     "start_time": "2023-12-10T11:29:56.888303219Z"
    }
   },
   "outputs": [
    {
     "data": {
      "text/plain": "(torch.Size([9, 11, 8]), torch.Size([9, 5, 11, 11]))"
     },
     "execution_count": 311,
     "metadata": {},
     "output_type": "execute_result"
    }
   ],
   "source": [
    "B, S, H, D = 9, 11, 5, 8\n",
    "mha = MultiHeadAttention(D, H)\n",
    "out, att = mha.forward(torch.zeros(B, S, D), mask=None)\n",
    "out.shape, att.shape"
   ]
  },
  {
   "cell_type": "code",
   "execution_count": 312,
   "metadata": {
    "ExecuteTime": {
     "end_time": "2023-12-10T11:29:57.527948621Z",
     "start_time": "2023-12-10T11:29:57.508542648Z"
    }
   },
   "outputs": [],
   "source": [
    "# Positional encodings\n",
    "def get_angles(pos, i, D):\n",
    "    angle_rates = 1 / np.power(10000, (2 * (i // 2)) / np.float32(D))\n",
    "    return pos * angle_rates\n",
    "\n",
    "\n",
    "def positional_encoding(D, position=30, dim=3, device=device):\n",
    "    angle_rads = get_angles(np.arange(position)[:, np.newaxis],\n",
    "                            np.arange(D)[np.newaxis, :],\n",
    "                            D)\n",
    "    # apply sin to even indices in the array; 2i\n",
    "    angle_rads[:, 0::2] = np.sin(angle_rads[:, 0::2])\n",
    "    # apply cos to odd indices in the array; 2i+1\n",
    "    angle_rads[:, 1::2] = np.cos(angle_rads[:, 1::2])\n",
    "    if dim == 3:\n",
    "        pos_encoding = angle_rads[np.newaxis, ...]\n",
    "    elif dim == 4:\n",
    "        pos_encoding = angle_rads[np.newaxis,np.newaxis,  ...]\n",
    "    return torch.tensor(pos_encoding, device=device)\n",
    "\n",
    "# function that implement the look_ahead mask for masking future time steps. \n",
    "def create_look_ahead_mask(size, device=device):\n",
    "    mask = torch.ones((size, size), device=device)\n",
    "    mask = torch.triu(mask, diagonal=1).double()\n",
    "    return mask  # (size, size)\n",
    "\n",
    "create_look_ahead_mask(6)\n",
    "\n",
    "class TransformerLayer(nn.Module):\n",
    "    def __init__(self, D, H, hidden_mlp_dim, dropout_rate):\n",
    "        super(TransformerLayer, self).__init__()\n",
    "        self.dropout_rate = dropout_rate\n",
    "        self.mlp_hidden = nn.Linear(D, hidden_mlp_dim)\n",
    "        self.mlp_out = nn.Linear(hidden_mlp_dim, D)\n",
    "        self.layernorm1 = nn.LayerNorm(D, eps=1e-9)\n",
    "        self.layernorm2 = nn.LayerNorm(D, eps=1e-9)\n",
    "        self.dropout1 = nn.Dropout(dropout_rate)\n",
    "        self.dropout2 = nn.Dropout(dropout_rate)\n",
    "\n",
    "        self.mha = MultiHeadAttention(D, H)\n",
    "\n",
    "\n",
    "    def forward(self, x, look_ahead_mask):\n",
    "        \n",
    "        attn, attn_weights = self.mha(x, look_ahead_mask)  # (B, S, D)\n",
    "        attn = self.dropout1(attn) # (B,S,D)\n",
    "        attn = self.layernorm1(attn + x) # (B,S,D)\n",
    "\n",
    "        mlp_act = torch.relu(self.mlp_hidden(attn))\n",
    "        mlp_act = self.mlp_out(mlp_act)\n",
    "        mlp_act = self.dropout2(mlp_act)\n",
    "        \n",
    "        output = self.layernorm2(mlp_act + attn)  # (B, S, D)\n",
    "\n",
    "        return output, attn_weights"
   ]
  },
  {
   "cell_type": "code",
   "execution_count": 313,
   "metadata": {
    "ExecuteTime": {
     "end_time": "2023-12-10T11:29:58.184012559Z",
     "start_time": "2023-12-10T11:29:58.169318845Z"
    }
   },
   "outputs": [
    {
     "data": {
      "text/plain": "(torch.Size([5, 7, 16]), torch.Size([5, 3, 7, 7]))"
     },
     "execution_count": 313,
     "metadata": {},
     "output_type": "execute_result"
    }
   ],
   "source": [
    "dl = TransformerLayer(16, 3, 32, 0.1)\n",
    "out, attn = dl(x=torch.zeros(5, 7, 16), look_ahead_mask=None)\n",
    "out.shape, attn.shape"
   ]
  },
  {
   "cell_type": "code",
   "execution_count": 314,
   "metadata": {
    "ExecuteTime": {
     "end_time": "2023-12-10T11:29:58.865903953Z",
     "start_time": "2023-12-10T11:29:58.854907810Z"
    }
   },
   "outputs": [],
   "source": [
    "class Transformer(nn.Module):\n",
    "    '''Transformer Decoder Implementating several Decoder Layers.\n",
    "    '''\n",
    "    def __init__(self, num_layers, D, H, hidden_mlp_dim, inp_features, out_features, dropout_rate):\n",
    "        super(Transformer, self).__init__()\n",
    "        self.sqrt_D = torch.tensor(math.sqrt(D))\n",
    "        self.num_layers = num_layers\n",
    "        self.input_projection = nn.Linear(inp_features, D) # multivariate input\n",
    "        self.output_projection = nn.Linear(D, out_features) # multivariate output\n",
    "        self.pos_encoding = positional_encoding(D)\n",
    "        self.dec_layers = nn.ModuleList([TransformerLayer(D, H, hidden_mlp_dim, \n",
    "                                        dropout_rate=dropout_rate\n",
    "                                       ) for _ in range(num_layers)])\n",
    "        self.dropout = nn.Dropout(dropout_rate)\n",
    "        self.double()\n",
    "\n",
    "    def forward(self, x, mask):\n",
    "        B, S, D = x.shape\n",
    "        attention_weights = {}\n",
    "        x = self.input_projection(x)\n",
    "        x *= self.sqrt_D\n",
    "        \n",
    "        x += self.pos_encoding[:, :S, :]\n",
    "\n",
    "        x = self.dropout(x)\n",
    "\n",
    "        for i in range(self.num_layers):\n",
    "            x, block = self.dec_layers[i](x=x,\n",
    "                                          look_ahead_mask=mask)\n",
    "            attention_weights['decoder_layer{}'.format(i + 1)] = block\n",
    "        \n",
    "        x = self.output_projection(x)\n",
    "        \n",
    "        return x, attention_weights # (B,S,S)"
   ]
  },
  {
   "cell_type": "code",
   "execution_count": 315,
   "metadata": {
    "ExecuteTime": {
     "end_time": "2023-12-10T11:29:59.572687393Z",
     "start_time": "2023-12-10T11:29:59.564249200Z"
    }
   },
   "outputs": [
    {
     "name": "stdout",
     "output_type": "stream",
     "text": [
      "torch.Size([32, 30, 4])\n",
      "torch.Size([32, 30, 4])\n"
     ]
    },
    {
     "data": {
      "text/plain": "(torch.Size([32, 30, 4]), torch.Size([32, 1, 30, 30]))"
     },
     "execution_count": 315,
     "metadata": {},
     "output_type": "execute_result"
    }
   ],
   "source": [
    "# Test Forward pass on the Transformer: \n",
    "transformer = Transformer(num_layers=1, D=32, H=1, hidden_mlp_dim=32,\n",
    "                                       inp_features=4, out_features=4, dropout_rate=0.1)\n",
    "transformer.to(device)\n",
    "(inputs, targets) = next(iter(trainDataset))\n",
    "print(inputs.shape)\n",
    "print(targets.shape)\n",
    "                         \n",
    "S = inputs.shape[1]\n",
    "mask = create_look_ahead_mask(S)\n",
    "out, attn = transformer (x=inputs, mask=mask)\n",
    "out.shape, attn[\"decoder_layer1\"].shape"
   ]
  },
  {
   "attachments": {},
   "cell_type": "markdown",
   "metadata": {},
   "source": [
    "Training the Transformer"
   ]
  },
  {
   "cell_type": "code",
   "execution_count": 316,
   "metadata": {
    "ExecuteTime": {
     "end_time": "2023-12-10T11:30:02.815308421Z",
     "start_time": "2023-12-10T11:30:02.812426873Z"
    }
   },
   "outputs": [
    {
     "name": "stdout",
     "output_type": "stream",
     "text": [
      "number of weight/biases matrices: 20 for a total of 6756 parameters \n"
     ]
    }
   ],
   "source": [
    "param_sizes = [p.numel() for p in transformer.parameters()]\n",
    "print(f\"number of weight/biases matrices: {len(param_sizes)} \"\n",
    "      f\"for a total of {np.sum(param_sizes)} parameters \")"
   ]
  },
  {
   "cell_type": "code",
   "execution_count": 344,
   "metadata": {
    "ExecuteTime": {
     "end_time": "2023-12-10T11:39:12.662899815Z",
     "start_time": "2023-12-10T11:39:12.606042184Z"
    }
   },
   "outputs": [],
   "source": [
    "transformer = Transformer(num_layers=4, D=32, H=8, hidden_mlp_dim=32,\n",
    "                          inp_features=4, out_features=4, dropout_rate=0.1).to(device)\n",
    "optimizer = torch.optim.RMSprop(transformer.parameters(), \n",
    "                                lr=0.00005)"
   ]
  },
  {
   "cell_type": "code",
   "execution_count": 345,
   "metadata": {
    "ExecuteTime": {
     "end_time": "2023-12-10T11:39:47.112620091Z",
     "start_time": "2023-12-10T11:39:13.083593573Z"
    }
   },
   "outputs": [
    {
     "name": "stdout",
     "output_type": "stream",
     "text": [
      "Requirement already satisfied: tqdm in /home/borek/anaconda3/envs/keras/lib/python3.11/site-packages (4.66.1)\r\n"
     ]
    },
    {
     "name": "stderr",
     "output_type": "stream",
     "text": [
      "100%|██████████| 50/50 [00:32<00:00,  1.56it/s]\n"
     ]
    }
   ],
   "source": [
    "!pip3 install tqdm\n",
    "from tqdm import tqdm\n",
    "\n",
    "n_epochs = 50\n",
    "niter = len(trainDataset)\n",
    "losses, val_losses = [], []\n",
    "\n",
    "for e in tqdm(range(n_epochs)):\n",
    "    \n",
    "    # one epoch on train set\n",
    "    transformer.train()\n",
    "    sum_train_loss = 0.0\n",
    "    for x,y in trainDataset:\n",
    "        S = x.shape[1]\n",
    "        mask = create_look_ahead_mask(S)\n",
    "        out, _ = transformer(x, mask)\n",
    "        loss = torch.nn.MSELoss()(out, y)\n",
    "        sum_train_loss += loss.item()\n",
    "        loss.backward()\n",
    "        optimizer.step()\n",
    "    losses.append(sum_train_loss / niter)\n",
    "    \n",
    "    # Evaluate on val set\n",
    "    transformer.eval()\n",
    "    sum_val_loss = 0.0\n",
    "    for i, (x, y) in enumerate(valDataset):\n",
    "        S = x.shape[1]\n",
    "        mask = create_look_ahead_mask(S)\n",
    "        out, _ = transformer(x, mask)\n",
    "        loss = torch.nn.MSELoss()(out, y)\n",
    "        sum_val_loss += loss.item()\n",
    "    val_losses.append(sum_val_loss / (i + 1))"
   ]
  },
  {
   "cell_type": "code",
   "execution_count": 346,
   "metadata": {
    "ExecuteTime": {
     "end_time": "2023-12-10T11:39:53.891195046Z",
     "start_time": "2023-12-10T11:39:53.825075344Z"
    }
   },
   "outputs": [
    {
     "data": {
      "text/plain": "[<matplotlib.lines.Line2D at 0x7ff61518e5d0>]"
     },
     "execution_count": 346,
     "metadata": {},
     "output_type": "execute_result"
    },
    {
     "data": {
      "text/plain": "<Figure size 640x480 with 1 Axes>",
      "image/png": "[encoded data removed]"
     },
     "metadata": {},
     "output_type": "display_data"
    }
   ],
   "source": [
    "plt.plot(losses)\n",
    "plt.plot(val_losses)"
   ]
  },
  {
   "cell_type": "code",
   "execution_count": 350,
   "outputs": [
    {
     "name": "stdout",
     "output_type": "stream",
     "text": [
      "tensor([1.2857, 1.3243, 1.2574, 1.0685, 1.2729, 1.2363, 1.0873, 0.7717, 0.4566,\n",
      "        0.6079, 0.3553, 0.7381, 1.2316, 1.3359, 0.9280, 1.2389, 1.2867, 1.4390,\n",
      "        0.7804, 0.7887, 0.9303, 1.0103, 0.4842, 0.4975, 0.6522, 0.5261, 0.6171,\n",
      "        0.3879, 0.6172, 0.8389], device='cuda:0', dtype=torch.float64,\n",
      "       grad_fn=<SelectBackward0>)\n"
     ]
    },
    {
     "data": {
      "text/plain": "<Figure size 640x480 with 1 Axes>",
      "image/png": "[encoded data removed]"
     },
     "metadata": {},
     "output_type": "display_data"
    }
   ],
   "source": [
    "transformer.eval()\n",
    "\n",
    "S = inputs.shape[1]\n",
    "mask = create_look_ahead_mask(S)\n",
    "out, attn = transformer(x=inputs, mask=mask)\n",
    "print(out[0][:, 1])\n",
    "\n",
    "plt.plot(out[0][1:, 1].detach().cpu().numpy())\n",
    "plt.plot(targets[0][:-1, 1].detach().cpu().numpy())\n",
    "plt.show()"
   ],
   "metadata": {
    "collapsed": false,
    "ExecuteTime": {
     "end_time": "2023-12-10T11:40:44.777145840Z",
     "start_time": "2023-12-10T11:40:44.709854465Z"
    }
   }
  },
  {
   "cell_type": "code",
   "execution_count": null,
   "outputs": [],
   "source": [],
   "metadata": {
    "collapsed": false
   }
  }
 ],
 "metadata": {
  "kernelspec": {
   "display_name": "Python 3",
   "language": "python",
   "name": "python3"
  },
  "language_info": {
   "codemirror_mode": {
    "name": "ipython",
    "version": 3
   },
   "file_extension": ".py",
   "mimetype": "text/x-python",
   "name": "python",
   "nbconvert_exporter": "python",
   "pygments_lexer": "ipython3",
   "version": "3.9.6"
  },
  "orig_nbformat": 4
 },
 "nbformat": 4,
 "nbformat_minor": 2
}
